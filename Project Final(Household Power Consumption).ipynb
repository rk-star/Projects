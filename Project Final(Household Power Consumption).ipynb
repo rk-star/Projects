{
 "cells": [
  {
   "cell_type": "code",
   "execution_count": 1,
   "metadata": {},
   "outputs": [],
   "source": [
    "import numpy as np\n",
    "import pandas as pd\n",
    "import matplotlib.pyplot as plt\n",
    "import os\n",
    "import seaborn as sns\n",
    "from sklearn import datasets,linear_model, tree\n",
    "from sklearn.preprocessing import scale, StandardScaler\n",
    "import sklearn.linear_model as skl_lm\n",
    "from sklearn.metrics import mean_squared_error, r2_score, confusion_matrix, classification_report, accuracy_score\n",
    "#from sklearn.decomposition import PCA\n",
    "from sklearn.model_selection import train_test_split, KFold, cross_val_score\n",
    "from sklearn.tree import DecisionTreeRegressor\n",
    "from sklearn.ensemble import BaggingRegressor, RandomForestRegressor, GradientBoostingRegressor\n",
    "from sklearn.pipeline import Pipeline, FeatureUnion\n",
    "from sklearn.neighbors import KNeighborsRegressor\n",
    "from sklearn.linear_model import LinearRegression"
   ]
  },
  {
   "cell_type": "code",
   "execution_count": 2,
   "metadata": {},
   "outputs": [
    {
     "data": {
      "text/plain": [
       "'C:\\\\Users\\\\Ravi\\\\Desktop\\\\jupyter'"
      ]
     },
     "execution_count": 2,
     "metadata": {},
     "output_type": "execute_result"
    }
   ],
   "source": [
    "os.getcwd()"
   ]
  },
  {
   "cell_type": "code",
   "execution_count": 3,
   "metadata": {},
   "outputs": [],
   "source": [
    "os.chdir(\"F:\\\\Afitech PPML Datasets\")"
   ]
  },
  {
   "cell_type": "code",
   "execution_count": 4,
   "metadata": {},
   "outputs": [],
   "source": [
    "df=pd.read_csv(\"hpc_breakdowns.csv\")"
   ]
  },
  {
   "cell_type": "code",
   "execution_count": 5,
   "metadata": {},
   "outputs": [
    {
     "data": {
      "text/html": [
       "<div>\n",
       "<style scoped>\n",
       "    .dataframe tbody tr th:only-of-type {\n",
       "        vertical-align: middle;\n",
       "    }\n",
       "\n",
       "    .dataframe tbody tr th {\n",
       "        vertical-align: top;\n",
       "    }\n",
       "\n",
       "    .dataframe thead th {\n",
       "        text-align: right;\n",
       "    }\n",
       "</style>\n",
       "<table border=\"1\" class=\"dataframe\">\n",
       "  <thead>\n",
       "    <tr style=\"text-align: right;\">\n",
       "      <th></th>\n",
       "      <th>Unnamed: 0</th>\n",
       "      <th>Date</th>\n",
       "      <th>Time</th>\n",
       "      <th>Global_active_power</th>\n",
       "      <th>Global_reactive_power</th>\n",
       "      <th>Voltage</th>\n",
       "      <th>Global_intensity</th>\n",
       "      <th>Sub_metering_1</th>\n",
       "      <th>Sub_metering_2</th>\n",
       "      <th>Sub_metering_3</th>\n",
       "    </tr>\n",
       "  </thead>\n",
       "  <tbody>\n",
       "    <tr>\n",
       "      <td>0</td>\n",
       "      <td>0</td>\n",
       "      <td>16/12/2006</td>\n",
       "      <td>17:24:00</td>\n",
       "      <td>4.216</td>\n",
       "      <td>0.418</td>\n",
       "      <td>234.84</td>\n",
       "      <td>18.4</td>\n",
       "      <td>0.0</td>\n",
       "      <td>1.0</td>\n",
       "      <td>17.0</td>\n",
       "    </tr>\n",
       "    <tr>\n",
       "      <td>1</td>\n",
       "      <td>1</td>\n",
       "      <td>16/12/2006</td>\n",
       "      <td>17:25:00</td>\n",
       "      <td>5.360</td>\n",
       "      <td>0.436</td>\n",
       "      <td>233.63</td>\n",
       "      <td>23.0</td>\n",
       "      <td>0.0</td>\n",
       "      <td>1.0</td>\n",
       "      <td>16.0</td>\n",
       "    </tr>\n",
       "    <tr>\n",
       "      <td>2</td>\n",
       "      <td>2</td>\n",
       "      <td>16/12/2006</td>\n",
       "      <td>17:26:00</td>\n",
       "      <td>5.374</td>\n",
       "      <td>0.498</td>\n",
       "      <td>233.29</td>\n",
       "      <td>23.0</td>\n",
       "      <td>0.0</td>\n",
       "      <td>2.0</td>\n",
       "      <td>17.0</td>\n",
       "    </tr>\n",
       "    <tr>\n",
       "      <td>3</td>\n",
       "      <td>3</td>\n",
       "      <td>16/12/2006</td>\n",
       "      <td>17:27:00</td>\n",
       "      <td>5.388</td>\n",
       "      <td>0.502</td>\n",
       "      <td>233.74</td>\n",
       "      <td>23.0</td>\n",
       "      <td>0.0</td>\n",
       "      <td>1.0</td>\n",
       "      <td>17.0</td>\n",
       "    </tr>\n",
       "    <tr>\n",
       "      <td>4</td>\n",
       "      <td>4</td>\n",
       "      <td>16/12/2006</td>\n",
       "      <td>17:28:00</td>\n",
       "      <td>3.666</td>\n",
       "      <td>0.528</td>\n",
       "      <td>235.68</td>\n",
       "      <td>15.8</td>\n",
       "      <td>0.0</td>\n",
       "      <td>1.0</td>\n",
       "      <td>17.0</td>\n",
       "    </tr>\n",
       "  </tbody>\n",
       "</table>\n",
       "</div>"
      ],
      "text/plain": [
       "   Unnamed: 0        Date      Time  Global_active_power  \\\n",
       "0           0  16/12/2006  17:24:00                4.216   \n",
       "1           1  16/12/2006  17:25:00                5.360   \n",
       "2           2  16/12/2006  17:26:00                5.374   \n",
       "3           3  16/12/2006  17:27:00                5.388   \n",
       "4           4  16/12/2006  17:28:00                3.666   \n",
       "\n",
       "   Global_reactive_power  Voltage  Global_intensity  Sub_metering_1  \\\n",
       "0                  0.418   234.84              18.4             0.0   \n",
       "1                  0.436   233.63              23.0             0.0   \n",
       "2                  0.498   233.29              23.0             0.0   \n",
       "3                  0.502   233.74              23.0             0.0   \n",
       "4                  0.528   235.68              15.8             0.0   \n",
       "\n",
       "   Sub_metering_2  Sub_metering_3  \n",
       "0             1.0            17.0  \n",
       "1             1.0            16.0  \n",
       "2             2.0            17.0  \n",
       "3             1.0            17.0  \n",
       "4             1.0            17.0  "
      ]
     },
     "execution_count": 5,
     "metadata": {},
     "output_type": "execute_result"
    }
   ],
   "source": [
    "df.head()"
   ]
  },
  {
   "cell_type": "code",
   "execution_count": 6,
   "metadata": {},
   "outputs": [
    {
     "data": {
      "text/html": [
       "<div>\n",
       "<style scoped>\n",
       "    .dataframe tbody tr th:only-of-type {\n",
       "        vertical-align: middle;\n",
       "    }\n",
       "\n",
       "    .dataframe tbody tr th {\n",
       "        vertical-align: top;\n",
       "    }\n",
       "\n",
       "    .dataframe thead th {\n",
       "        text-align: right;\n",
       "    }\n",
       "</style>\n",
       "<table border=\"1\" class=\"dataframe\">\n",
       "  <thead>\n",
       "    <tr style=\"text-align: right;\">\n",
       "      <th></th>\n",
       "      <th>Unnamed: 0</th>\n",
       "      <th>Date</th>\n",
       "      <th>Time</th>\n",
       "      <th>Global_active_power</th>\n",
       "      <th>Global_reactive_power</th>\n",
       "      <th>Voltage</th>\n",
       "      <th>Global_intensity</th>\n",
       "      <th>Sub_metering_1</th>\n",
       "      <th>Sub_metering_2</th>\n",
       "      <th>Sub_metering_3</th>\n",
       "    </tr>\n",
       "  </thead>\n",
       "  <tbody>\n",
       "    <tr>\n",
       "      <td>2049275</td>\n",
       "      <td>2075254</td>\n",
       "      <td>26/11/2010</td>\n",
       "      <td>20:58:00</td>\n",
       "      <td>0.946</td>\n",
       "      <td>0.0</td>\n",
       "      <td>240.43</td>\n",
       "      <td>4.0</td>\n",
       "      <td>0.0</td>\n",
       "      <td>0.0</td>\n",
       "      <td>0.0</td>\n",
       "    </tr>\n",
       "    <tr>\n",
       "      <td>2049276</td>\n",
       "      <td>2075255</td>\n",
       "      <td>26/11/2010</td>\n",
       "      <td>20:59:00</td>\n",
       "      <td>0.944</td>\n",
       "      <td>0.0</td>\n",
       "      <td>240.00</td>\n",
       "      <td>4.0</td>\n",
       "      <td>0.0</td>\n",
       "      <td>0.0</td>\n",
       "      <td>0.0</td>\n",
       "    </tr>\n",
       "    <tr>\n",
       "      <td>2049277</td>\n",
       "      <td>2075256</td>\n",
       "      <td>26/11/2010</td>\n",
       "      <td>21:00:00</td>\n",
       "      <td>0.938</td>\n",
       "      <td>0.0</td>\n",
       "      <td>239.82</td>\n",
       "      <td>3.8</td>\n",
       "      <td>0.0</td>\n",
       "      <td>0.0</td>\n",
       "      <td>0.0</td>\n",
       "    </tr>\n",
       "    <tr>\n",
       "      <td>2049278</td>\n",
       "      <td>2075257</td>\n",
       "      <td>26/11/2010</td>\n",
       "      <td>21:01:00</td>\n",
       "      <td>0.934</td>\n",
       "      <td>0.0</td>\n",
       "      <td>239.70</td>\n",
       "      <td>3.8</td>\n",
       "      <td>0.0</td>\n",
       "      <td>0.0</td>\n",
       "      <td>0.0</td>\n",
       "    </tr>\n",
       "    <tr>\n",
       "      <td>2049279</td>\n",
       "      <td>2075258</td>\n",
       "      <td>26/11/2010</td>\n",
       "      <td>21:02:00</td>\n",
       "      <td>0.932</td>\n",
       "      <td>0.0</td>\n",
       "      <td>239.55</td>\n",
       "      <td>3.8</td>\n",
       "      <td>0.0</td>\n",
       "      <td>0.0</td>\n",
       "      <td>0.0</td>\n",
       "    </tr>\n",
       "  </tbody>\n",
       "</table>\n",
       "</div>"
      ],
      "text/plain": [
       "         Unnamed: 0        Date      Time  Global_active_power  \\\n",
       "2049275     2075254  26/11/2010  20:58:00                0.946   \n",
       "2049276     2075255  26/11/2010  20:59:00                0.944   \n",
       "2049277     2075256  26/11/2010  21:00:00                0.938   \n",
       "2049278     2075257  26/11/2010  21:01:00                0.934   \n",
       "2049279     2075258  26/11/2010  21:02:00                0.932   \n",
       "\n",
       "         Global_reactive_power  Voltage  Global_intensity  Sub_metering_1  \\\n",
       "2049275                    0.0   240.43               4.0             0.0   \n",
       "2049276                    0.0   240.00               4.0             0.0   \n",
       "2049277                    0.0   239.82               3.8             0.0   \n",
       "2049278                    0.0   239.70               3.8             0.0   \n",
       "2049279                    0.0   239.55               3.8             0.0   \n",
       "\n",
       "         Sub_metering_2  Sub_metering_3  \n",
       "2049275             0.0             0.0  \n",
       "2049276             0.0             0.0  \n",
       "2049277             0.0             0.0  \n",
       "2049278             0.0             0.0  \n",
       "2049279             0.0             0.0  "
      ]
     },
     "execution_count": 6,
     "metadata": {},
     "output_type": "execute_result"
    }
   ],
   "source": [
    "df.tail()"
   ]
  },
  {
   "cell_type": "code",
   "execution_count": 7,
   "metadata": {},
   "outputs": [
    {
     "name": "stdout",
     "output_type": "stream",
     "text": [
      "<class 'pandas.core.frame.DataFrame'>\n",
      "RangeIndex: 2049280 entries, 0 to 2049279\n",
      "Data columns (total 10 columns):\n",
      "Unnamed: 0               int64\n",
      "Date                     object\n",
      "Time                     object\n",
      "Global_active_power      float64\n",
      "Global_reactive_power    float64\n",
      "Voltage                  float64\n",
      "Global_intensity         float64\n",
      "Sub_metering_1           float64\n",
      "Sub_metering_2           float64\n",
      "Sub_metering_3           float64\n",
      "dtypes: float64(7), int64(1), object(2)\n",
      "memory usage: 156.3+ MB\n"
     ]
    }
   ],
   "source": [
    "df.info()"
   ]
  },
  {
   "cell_type": "code",
   "execution_count": 8,
   "metadata": {},
   "outputs": [
    {
     "data": {
      "text/html": [
       "<div>\n",
       "<style scoped>\n",
       "    .dataframe tbody tr th:only-of-type {\n",
       "        vertical-align: middle;\n",
       "    }\n",
       "\n",
       "    .dataframe tbody tr th {\n",
       "        vertical-align: top;\n",
       "    }\n",
       "\n",
       "    .dataframe thead th {\n",
       "        text-align: right;\n",
       "    }\n",
       "</style>\n",
       "<table border=\"1\" class=\"dataframe\">\n",
       "  <thead>\n",
       "    <tr style=\"text-align: right;\">\n",
       "      <th></th>\n",
       "      <th>Unnamed: 0</th>\n",
       "      <th>Global_active_power</th>\n",
       "      <th>Global_reactive_power</th>\n",
       "      <th>Voltage</th>\n",
       "      <th>Global_intensity</th>\n",
       "      <th>Sub_metering_1</th>\n",
       "      <th>Sub_metering_2</th>\n",
       "      <th>Sub_metering_3</th>\n",
       "    </tr>\n",
       "  </thead>\n",
       "  <tbody>\n",
       "    <tr>\n",
       "      <td>count</td>\n",
       "      <td>2.049280e+06</td>\n",
       "      <td>2.047237e+06</td>\n",
       "      <td>2.048803e+06</td>\n",
       "      <td>2.047249e+06</td>\n",
       "      <td>2.047279e+06</td>\n",
       "      <td>2.047983e+06</td>\n",
       "      <td>2.048070e+06</td>\n",
       "      <td>2.049151e+06</td>\n",
       "    </tr>\n",
       "    <tr>\n",
       "      <td>mean</td>\n",
       "      <td>1.031496e+06</td>\n",
       "      <td>1.091655e+00</td>\n",
       "      <td>1.237129e-01</td>\n",
       "      <td>2.408405e+02</td>\n",
       "      <td>4.627869e+00</td>\n",
       "      <td>1.122227e+00</td>\n",
       "      <td>1.298954e+00</td>\n",
       "      <td>6.458394e+00</td>\n",
       "    </tr>\n",
       "    <tr>\n",
       "      <td>std</td>\n",
       "      <td>5.964586e+05</td>\n",
       "      <td>1.057290e+00</td>\n",
       "      <td>1.127240e-01</td>\n",
       "      <td>3.238838e+00</td>\n",
       "      <td>4.444695e+00</td>\n",
       "      <td>6.153978e+00</td>\n",
       "      <td>5.823372e+00</td>\n",
       "      <td>8.437150e+00</td>\n",
       "    </tr>\n",
       "    <tr>\n",
       "      <td>min</td>\n",
       "      <td>0.000000e+00</td>\n",
       "      <td>7.600000e-02</td>\n",
       "      <td>0.000000e+00</td>\n",
       "      <td>2.232000e+02</td>\n",
       "      <td>2.000000e-01</td>\n",
       "      <td>0.000000e+00</td>\n",
       "      <td>0.000000e+00</td>\n",
       "      <td>0.000000e+00</td>\n",
       "    </tr>\n",
       "    <tr>\n",
       "      <td>25%</td>\n",
       "      <td>5.162538e+05</td>\n",
       "      <td>3.080000e-01</td>\n",
       "      <td>4.800000e-02</td>\n",
       "      <td>2.389900e+02</td>\n",
       "      <td>1.400000e+00</td>\n",
       "      <td>0.000000e+00</td>\n",
       "      <td>0.000000e+00</td>\n",
       "      <td>0.000000e+00</td>\n",
       "    </tr>\n",
       "    <tr>\n",
       "      <td>50%</td>\n",
       "      <td>1.028638e+06</td>\n",
       "      <td>6.020000e-01</td>\n",
       "      <td>1.000000e-01</td>\n",
       "      <td>2.410100e+02</td>\n",
       "      <td>2.600000e+00</td>\n",
       "      <td>0.000000e+00</td>\n",
       "      <td>0.000000e+00</td>\n",
       "      <td>1.000000e+00</td>\n",
       "    </tr>\n",
       "    <tr>\n",
       "      <td>75%</td>\n",
       "      <td>1.545307e+06</td>\n",
       "      <td>1.528000e+00</td>\n",
       "      <td>1.940000e-01</td>\n",
       "      <td>2.428900e+02</td>\n",
       "      <td>6.400000e+00</td>\n",
       "      <td>0.000000e+00</td>\n",
       "      <td>1.000000e+00</td>\n",
       "      <td>1.700000e+01</td>\n",
       "    </tr>\n",
       "    <tr>\n",
       "      <td>max</td>\n",
       "      <td>2.075258e+06</td>\n",
       "      <td>1.112200e+01</td>\n",
       "      <td>1.390000e+00</td>\n",
       "      <td>2.541500e+02</td>\n",
       "      <td>4.840000e+01</td>\n",
       "      <td>8.800000e+01</td>\n",
       "      <td>8.000000e+01</td>\n",
       "      <td>3.100000e+01</td>\n",
       "    </tr>\n",
       "  </tbody>\n",
       "</table>\n",
       "</div>"
      ],
      "text/plain": [
       "         Unnamed: 0  Global_active_power  Global_reactive_power       Voltage  \\\n",
       "count  2.049280e+06         2.047237e+06           2.048803e+06  2.047249e+06   \n",
       "mean   1.031496e+06         1.091655e+00           1.237129e-01  2.408405e+02   \n",
       "std    5.964586e+05         1.057290e+00           1.127240e-01  3.238838e+00   \n",
       "min    0.000000e+00         7.600000e-02           0.000000e+00  2.232000e+02   \n",
       "25%    5.162538e+05         3.080000e-01           4.800000e-02  2.389900e+02   \n",
       "50%    1.028638e+06         6.020000e-01           1.000000e-01  2.410100e+02   \n",
       "75%    1.545307e+06         1.528000e+00           1.940000e-01  2.428900e+02   \n",
       "max    2.075258e+06         1.112200e+01           1.390000e+00  2.541500e+02   \n",
       "\n",
       "       Global_intensity  Sub_metering_1  Sub_metering_2  Sub_metering_3  \n",
       "count      2.047279e+06    2.047983e+06    2.048070e+06    2.049151e+06  \n",
       "mean       4.627869e+00    1.122227e+00    1.298954e+00    6.458394e+00  \n",
       "std        4.444695e+00    6.153978e+00    5.823372e+00    8.437150e+00  \n",
       "min        2.000000e-01    0.000000e+00    0.000000e+00    0.000000e+00  \n",
       "25%        1.400000e+00    0.000000e+00    0.000000e+00    0.000000e+00  \n",
       "50%        2.600000e+00    0.000000e+00    0.000000e+00    1.000000e+00  \n",
       "75%        6.400000e+00    0.000000e+00    1.000000e+00    1.700000e+01  \n",
       "max        4.840000e+01    8.800000e+01    8.000000e+01    3.100000e+01  "
      ]
     },
     "execution_count": 8,
     "metadata": {},
     "output_type": "execute_result"
    }
   ],
   "source": [
    "df.describe()"
   ]
  },
  {
   "cell_type": "markdown",
   "metadata": {},
   "source": [
    "# Slicing The Last 2 Lakh Rows"
   ]
  },
  {
   "cell_type": "code",
   "execution_count": 9,
   "metadata": {},
   "outputs": [],
   "source": [
    "df.drop(df.tail(200000).index,inplace=True)"
   ]
  },
  {
   "cell_type": "code",
   "execution_count": 10,
   "metadata": {},
   "outputs": [
    {
     "data": {
      "text/plain": [
       "(1849280, 10)"
      ]
     },
     "execution_count": 10,
     "metadata": {},
     "output_type": "execute_result"
    }
   ],
   "source": [
    "df.shape"
   ]
  },
  {
   "cell_type": "code",
   "execution_count": 11,
   "metadata": {},
   "outputs": [
    {
     "data": {
      "text/html": [
       "<div>\n",
       "<style scoped>\n",
       "    .dataframe tbody tr th:only-of-type {\n",
       "        vertical-align: middle;\n",
       "    }\n",
       "\n",
       "    .dataframe tbody tr th {\n",
       "        vertical-align: top;\n",
       "    }\n",
       "\n",
       "    .dataframe thead th {\n",
       "        text-align: right;\n",
       "    }\n",
       "</style>\n",
       "<table border=\"1\" class=\"dataframe\">\n",
       "  <thead>\n",
       "    <tr style=\"text-align: right;\">\n",
       "      <th></th>\n",
       "      <th>Unnamed: 0</th>\n",
       "      <th>Date</th>\n",
       "      <th>Time</th>\n",
       "      <th>Global_active_power</th>\n",
       "      <th>Global_reactive_power</th>\n",
       "      <th>Voltage</th>\n",
       "      <th>Global_intensity</th>\n",
       "      <th>Sub_metering_1</th>\n",
       "      <th>Sub_metering_2</th>\n",
       "      <th>Sub_metering_3</th>\n",
       "    </tr>\n",
       "  </thead>\n",
       "  <tbody>\n",
       "    <tr>\n",
       "      <td>1849275</td>\n",
       "      <td>1862789</td>\n",
       "      <td>2/7/2010</td>\n",
       "      <td>07:53:00</td>\n",
       "      <td>0.450</td>\n",
       "      <td>0.322</td>\n",
       "      <td>236.90</td>\n",
       "      <td>2.4</td>\n",
       "      <td>0.0</td>\n",
       "      <td>2.0</td>\n",
       "      <td>1.0</td>\n",
       "    </tr>\n",
       "    <tr>\n",
       "      <td>1849276</td>\n",
       "      <td>1862790</td>\n",
       "      <td>2/7/2010</td>\n",
       "      <td>07:54:00</td>\n",
       "      <td>0.386</td>\n",
       "      <td>0.216</td>\n",
       "      <td>236.69</td>\n",
       "      <td>1.8</td>\n",
       "      <td>0.0</td>\n",
       "      <td>0.0</td>\n",
       "      <td>0.0</td>\n",
       "    </tr>\n",
       "    <tr>\n",
       "      <td>1849277</td>\n",
       "      <td>1862791</td>\n",
       "      <td>2/7/2010</td>\n",
       "      <td>07:55:00</td>\n",
       "      <td>0.378</td>\n",
       "      <td>0.204</td>\n",
       "      <td>236.54</td>\n",
       "      <td>1.8</td>\n",
       "      <td>0.0</td>\n",
       "      <td>0.0</td>\n",
       "      <td>1.0</td>\n",
       "    </tr>\n",
       "    <tr>\n",
       "      <td>1849278</td>\n",
       "      <td>1862792</td>\n",
       "      <td>2/7/2010</td>\n",
       "      <td>07:56:00</td>\n",
       "      <td>0.376</td>\n",
       "      <td>0.204</td>\n",
       "      <td>236.15</td>\n",
       "      <td>1.8</td>\n",
       "      <td>0.0</td>\n",
       "      <td>0.0</td>\n",
       "      <td>1.0</td>\n",
       "    </tr>\n",
       "    <tr>\n",
       "      <td>1849279</td>\n",
       "      <td>1862793</td>\n",
       "      <td>2/7/2010</td>\n",
       "      <td>07:57:00</td>\n",
       "      <td>0.374</td>\n",
       "      <td>0.202</td>\n",
       "      <td>235.70</td>\n",
       "      <td>1.8</td>\n",
       "      <td>0.0</td>\n",
       "      <td>0.0</td>\n",
       "      <td>0.0</td>\n",
       "    </tr>\n",
       "  </tbody>\n",
       "</table>\n",
       "</div>"
      ],
      "text/plain": [
       "         Unnamed: 0      Date      Time  Global_active_power  \\\n",
       "1849275     1862789  2/7/2010  07:53:00                0.450   \n",
       "1849276     1862790  2/7/2010  07:54:00                0.386   \n",
       "1849277     1862791  2/7/2010  07:55:00                0.378   \n",
       "1849278     1862792  2/7/2010  07:56:00                0.376   \n",
       "1849279     1862793  2/7/2010  07:57:00                0.374   \n",
       "\n",
       "         Global_reactive_power  Voltage  Global_intensity  Sub_metering_1  \\\n",
       "1849275                  0.322   236.90               2.4             0.0   \n",
       "1849276                  0.216   236.69               1.8             0.0   \n",
       "1849277                  0.204   236.54               1.8             0.0   \n",
       "1849278                  0.204   236.15               1.8             0.0   \n",
       "1849279                  0.202   235.70               1.8             0.0   \n",
       "\n",
       "         Sub_metering_2  Sub_metering_3  \n",
       "1849275             2.0             1.0  \n",
       "1849276             0.0             0.0  \n",
       "1849277             0.0             1.0  \n",
       "1849278             0.0             1.0  \n",
       "1849279             0.0             0.0  "
      ]
     },
     "execution_count": 11,
     "metadata": {},
     "output_type": "execute_result"
    }
   ],
   "source": [
    "df.tail()"
   ]
  },
  {
   "cell_type": "code",
   "execution_count": 12,
   "metadata": {},
   "outputs": [
    {
     "name": "stdout",
     "output_type": "stream",
     "text": [
      "<class 'pandas.core.frame.DataFrame'>\n",
      "Int64Index: 1849280 entries, 0 to 1849279\n",
      "Data columns (total 10 columns):\n",
      "Unnamed: 0               int64\n",
      "Date                     object\n",
      "Time                     object\n",
      "Global_active_power      float64\n",
      "Global_reactive_power    float64\n",
      "Voltage                  float64\n",
      "Global_intensity         float64\n",
      "Sub_metering_1           float64\n",
      "Sub_metering_2           float64\n",
      "Sub_metering_3           float64\n",
      "dtypes: float64(7), int64(1), object(2)\n",
      "memory usage: 155.2+ MB\n"
     ]
    }
   ],
   "source": [
    "df.info()"
   ]
  },
  {
   "cell_type": "code",
   "execution_count": 13,
   "metadata": {},
   "outputs": [
    {
     "data": {
      "text/html": [
       "<div>\n",
       "<style scoped>\n",
       "    .dataframe tbody tr th:only-of-type {\n",
       "        vertical-align: middle;\n",
       "    }\n",
       "\n",
       "    .dataframe tbody tr th {\n",
       "        vertical-align: top;\n",
       "    }\n",
       "\n",
       "    .dataframe thead th {\n",
       "        text-align: right;\n",
       "    }\n",
       "</style>\n",
       "<table border=\"1\" class=\"dataframe\">\n",
       "  <thead>\n",
       "    <tr style=\"text-align: right;\">\n",
       "      <th></th>\n",
       "      <th>Unnamed: 0</th>\n",
       "      <th>Global_active_power</th>\n",
       "      <th>Global_reactive_power</th>\n",
       "      <th>Voltage</th>\n",
       "      <th>Global_intensity</th>\n",
       "      <th>Sub_metering_1</th>\n",
       "      <th>Sub_metering_2</th>\n",
       "      <th>Sub_metering_3</th>\n",
       "    </tr>\n",
       "  </thead>\n",
       "  <tbody>\n",
       "    <tr>\n",
       "      <td>Unnamed: 0</td>\n",
       "      <td>1.000000</td>\n",
       "      <td>-0.021192</td>\n",
       "      <td>0.048311</td>\n",
       "      <td>0.278375</td>\n",
       "      <td>-0.026335</td>\n",
       "      <td>-0.007346</td>\n",
       "      <td>-0.034708</td>\n",
       "      <td>0.080740</td>\n",
       "    </tr>\n",
       "    <tr>\n",
       "      <td>Global_active_power</td>\n",
       "      <td>-0.021192</td>\n",
       "      <td>1.000000</td>\n",
       "      <td>0.250001</td>\n",
       "      <td>-0.397770</td>\n",
       "      <td>0.998920</td>\n",
       "      <td>0.485627</td>\n",
       "      <td>0.437460</td>\n",
       "      <td>0.634829</td>\n",
       "    </tr>\n",
       "    <tr>\n",
       "      <td>Global_reactive_power</td>\n",
       "      <td>0.048311</td>\n",
       "      <td>0.250001</td>\n",
       "      <td>1.000000</td>\n",
       "      <td>-0.116041</td>\n",
       "      <td>0.268457</td>\n",
       "      <td>0.130711</td>\n",
       "      <td>0.140119</td>\n",
       "      <td>0.084316</td>\n",
       "    </tr>\n",
       "    <tr>\n",
       "      <td>Voltage</td>\n",
       "      <td>0.278375</td>\n",
       "      <td>-0.397770</td>\n",
       "      <td>-0.116041</td>\n",
       "      <td>1.000000</td>\n",
       "      <td>-0.409553</td>\n",
       "      <td>-0.196699</td>\n",
       "      <td>-0.168990</td>\n",
       "      <td>-0.264535</td>\n",
       "    </tr>\n",
       "    <tr>\n",
       "      <td>Global_intensity</td>\n",
       "      <td>-0.026335</td>\n",
       "      <td>0.998920</td>\n",
       "      <td>0.268457</td>\n",
       "      <td>-0.409553</td>\n",
       "      <td>1.000000</td>\n",
       "      <td>0.490148</td>\n",
       "      <td>0.443356</td>\n",
       "      <td>0.622682</td>\n",
       "    </tr>\n",
       "    <tr>\n",
       "      <td>Sub_metering_1</td>\n",
       "      <td>-0.007346</td>\n",
       "      <td>0.485627</td>\n",
       "      <td>0.130711</td>\n",
       "      <td>-0.196699</td>\n",
       "      <td>0.490148</td>\n",
       "      <td>1.000000</td>\n",
       "      <td>0.055715</td>\n",
       "      <td>0.104600</td>\n",
       "    </tr>\n",
       "    <tr>\n",
       "      <td>Sub_metering_2</td>\n",
       "      <td>-0.034708</td>\n",
       "      <td>0.437460</td>\n",
       "      <td>0.140119</td>\n",
       "      <td>-0.168990</td>\n",
       "      <td>0.443356</td>\n",
       "      <td>0.055715</td>\n",
       "      <td>1.000000</td>\n",
       "      <td>0.080673</td>\n",
       "    </tr>\n",
       "    <tr>\n",
       "      <td>Sub_metering_3</td>\n",
       "      <td>0.080740</td>\n",
       "      <td>0.634829</td>\n",
       "      <td>0.084316</td>\n",
       "      <td>-0.264535</td>\n",
       "      <td>0.622682</td>\n",
       "      <td>0.104600</td>\n",
       "      <td>0.080673</td>\n",
       "      <td>1.000000</td>\n",
       "    </tr>\n",
       "  </tbody>\n",
       "</table>\n",
       "</div>"
      ],
      "text/plain": [
       "                       Unnamed: 0  Global_active_power  Global_reactive_power  \\\n",
       "Unnamed: 0               1.000000            -0.021192               0.048311   \n",
       "Global_active_power     -0.021192             1.000000               0.250001   \n",
       "Global_reactive_power    0.048311             0.250001               1.000000   \n",
       "Voltage                  0.278375            -0.397770              -0.116041   \n",
       "Global_intensity        -0.026335             0.998920               0.268457   \n",
       "Sub_metering_1          -0.007346             0.485627               0.130711   \n",
       "Sub_metering_2          -0.034708             0.437460               0.140119   \n",
       "Sub_metering_3           0.080740             0.634829               0.084316   \n",
       "\n",
       "                        Voltage  Global_intensity  Sub_metering_1  \\\n",
       "Unnamed: 0             0.278375         -0.026335       -0.007346   \n",
       "Global_active_power   -0.397770          0.998920        0.485627   \n",
       "Global_reactive_power -0.116041          0.268457        0.130711   \n",
       "Voltage                1.000000         -0.409553       -0.196699   \n",
       "Global_intensity      -0.409553          1.000000        0.490148   \n",
       "Sub_metering_1        -0.196699          0.490148        1.000000   \n",
       "Sub_metering_2        -0.168990          0.443356        0.055715   \n",
       "Sub_metering_3        -0.264535          0.622682        0.104600   \n",
       "\n",
       "                       Sub_metering_2  Sub_metering_3  \n",
       "Unnamed: 0                  -0.034708        0.080740  \n",
       "Global_active_power          0.437460        0.634829  \n",
       "Global_reactive_power        0.140119        0.084316  \n",
       "Voltage                     -0.168990       -0.264535  \n",
       "Global_intensity             0.443356        0.622682  \n",
       "Sub_metering_1               0.055715        0.104600  \n",
       "Sub_metering_2               1.000000        0.080673  \n",
       "Sub_metering_3               0.080673        1.000000  "
      ]
     },
     "execution_count": 13,
     "metadata": {},
     "output_type": "execute_result"
    }
   ],
   "source": [
    "df.corr()"
   ]
  },
  {
   "cell_type": "markdown",
   "metadata": {},
   "source": [
    "# Identifying The Outliers"
   ]
  },
  {
   "cell_type": "code",
   "execution_count": 14,
   "metadata": {},
   "outputs": [
    {
     "data": {
      "text/plain": [
       "<matplotlib.axes._subplots.AxesSubplot at 0x24842ec1f88>"
      ]
     },
     "execution_count": 14,
     "metadata": {},
     "output_type": "execute_result"
    },
    {
     "data": {
      "image/png": "[encoded data removed]",
      "text/plain": [
       "<Figure size 432x288 with 1 Axes>"
      ]
     },
     "metadata": {
      "needs_background": "light"
     },
     "output_type": "display_data"
    }
   ],
   "source": [
    "sns.countplot(x=df['Global_active_power'],data=df)"
   ]
  },
  {
   "cell_type": "code",
   "execution_count": 15,
   "metadata": {},
   "outputs": [
    {
     "data": {
      "text/plain": [
       "<matplotlib.axes._subplots.AxesSubplot at 0x2484f273848>"
      ]
     },
     "execution_count": 15,
     "metadata": {},
     "output_type": "execute_result"
    },
    {
     "data": {
      "image/png": "[encoded data removed]",
      "text/plain": [
       "<Figure size 432x288 with 1 Axes>"
      ]
     },
     "metadata": {
      "needs_background": "light"
     },
     "output_type": "display_data"
    }
   ],
   "source": [
    "sns.boxplot(x=df['Voltage'],data=df)"
   ]
  },
  {
   "cell_type": "code",
   "execution_count": 16,
   "metadata": {},
   "outputs": [
    {
     "data": {
      "text/plain": [
       "<matplotlib.axes._subplots.AxesSubplot at 0x2484f6863c8>"
      ]
     },
     "execution_count": 16,
     "metadata": {},
     "output_type": "execute_result"
    },
    {
     "data": {
      "image/png": "[encoded data removed]",
      "text/plain": [
       "<Figure size 432x288 with 1 Axes>"
      ]
     },
     "metadata": {
      "needs_background": "light"
     },
     "output_type": "display_data"
    }
   ],
   "source": [
    "sns.boxplot(x=df['Global_intensity'],data=df)"
   ]
  },
  {
   "cell_type": "markdown",
   "metadata": {},
   "source": [
    "# Checking The Global Intensity"
   ]
  },
  {
   "cell_type": "code",
   "execution_count": 17,
   "metadata": {},
   "outputs": [
    {
     "name": "stdout",
     "output_type": "stream",
     "text": [
      "73981\n"
     ]
    }
   ],
   "source": [
    "count=0\n",
    "for item in df['Global_intensity']:\n",
    "    if item > 15:\n",
    "        count=count+1\n",
    "        \n",
    "print(count) "
   ]
  },
  {
   "cell_type": "markdown",
   "metadata": {},
   "source": [
    "# Missing Value Treatment"
   ]
  },
  {
   "cell_type": "code",
   "execution_count": 18,
   "metadata": {},
   "outputs": [
    {
     "data": {
      "text/plain": [
       "Unnamed: 0                  0\n",
       "Date                        0\n",
       "Time                        0\n",
       "Global_active_power      1997\n",
       "Global_reactive_power     439\n",
       "Voltage                  2004\n",
       "Global_intensity         1811\n",
       "Sub_metering_1           1202\n",
       "Sub_metering_2           1128\n",
       "Sub_metering_3            129\n",
       "dtype: int64"
      ]
     },
     "execution_count": 18,
     "metadata": {},
     "output_type": "execute_result"
    }
   ],
   "source": [
    "df.isnull().sum()"
   ]
  },
  {
   "cell_type": "code",
   "execution_count": 19,
   "metadata": {},
   "outputs": [
    {
     "name": "stdout",
     "output_type": "stream",
     "text": [
      "0.218    9245\n",
      "0.216    9045\n",
      "0.220    8779\n",
      "0.222    8614\n",
      "0.224    8482\n",
      "         ... \n",
      "7.536       1\n",
      "7.260       1\n",
      "9.732       1\n",
      "8.932       1\n",
      "8.444       1\n",
      "Name: Global_active_power, Length: 4181, dtype: int64\n"
     ]
    }
   ],
   "source": [
    "print(df['Global_active_power'].value_counts(dropna=False))"
   ]
  },
  {
   "cell_type": "code",
   "execution_count": 20,
   "metadata": {},
   "outputs": [
    {
     "data": {
      "image/png": "[encoded data removed]",
      "text/plain": [
       "<Figure size 432x288 with 1 Axes>"
      ]
     },
     "metadata": {
      "needs_background": "light"
     },
     "output_type": "display_data"
    }
   ],
   "source": [
    "sns.countplot(x=\"Global_active_power\",data=df)\n",
    "plt.show()"
   ]
  },
  {
   "cell_type": "code",
   "execution_count": 21,
   "metadata": {},
   "outputs": [
    {
     "name": "stdout",
     "output_type": "stream",
     "text": [
      "[7944, 7945, 7946, 7947, 7948, 7949, 7950, 7951, 7952, 7953, 7954, 7955, 7956, 7957, 7958, 7959, 7960, 7961, 7962, 7963, 7964, 7965, 7966, 7967, 7968, 7969, 7970, 7971, 7972, 29481, 29482, 29483, 29484, 29485, 29486, 29487, 29488, 29489, 29490, 29491, 29492, 29493, 29494, 29495, 29496, 29497, 29498, 29499, 29500, 29501, 29502, 29503, 29504, 29505, 29506, 29507, 64740, 64741, 64742, 64743, 64744, 64745, 64746, 64747, 64748, 64749, 64750, 64751, 64752, 64753, 64754, 64755, 64756, 64757, 64758, 64759, 64760, 64761, 64762, 64763, 64764, 64765, 64766, 64767, 64768, 64769, 64770, 64771, 64772, 64773, 64774, 64775, 64776, 64777, 64778, 64779, 64780, 64781, 64782, 64783, 64784, 64785, 64786, 114187, 114188, 114189, 114190, 114191, 114192, 114193, 114194, 114195, 114196, 114197, 114198, 114199, 114200, 114201, 114202, 114203, 114204, 114205, 114206, 114207, 114208, 114209, 114210, 114211, 114212, 114213, 114214, 114215, 114216, 114217, 114218, 114219, 114220, 114221, 114222, 114223, 114224, 114225, 114226, 114227, 114228, 114229, 114230, 114231, 114232, 114233, 114234, 114235, 121622, 121623, 121624, 121625, 121626, 121627, 121628, 121629, 121630, 121631, 121632, 121633, 121634, 121635, 121636, 121637, 121638, 121639, 121640, 121641, 121642, 121643, 121644, 121645, 121646, 121647, 121648, 121649, 121650, 121651, 121652, 121653, 121654, 121655, 121656, 121657, 121658, 121659, 121660, 121661, 121662, 121663, 121664, 121665, 121666, 121667, 121668, 121669, 138430, 138431, 138432, 138433, 138434, 138435, 138436, 138437, 138438, 138439, 138440, 138441, 138442, 138443, 138444, 138445, 138446, 138447, 138448, 138449, 138450, 138451, 138452, 138453, 138454, 138455, 138456, 138457, 138458, 138459, 138460, 138461, 138462, 138463, 138464, 138465, 138466, 138467, 138468, 138469, 138470, 138471, 138472, 161093, 161094, 161095, 161096, 161097, 161098, 161099, 161100, 161101, 161102, 161103, 161104, 161105, 161106, 161107, 161108, 161109, 161110, 161111, 161112, 161113, 161114, 161115, 161116, 161117, 161118, 161119, 161120, 161121, 161122, 161123, 161124, 161125, 194962, 194963, 194964, 194965, 194966, 194967, 194968, 194969, 194970, 194971, 194972, 194973, 194974, 194975, 194976, 194977, 194978, 194979, 194980, 194981, 194982, 194983, 194984, 194985, 194986, 194987, 194988, 194989, 194990, 194991, 208246, 208247, 208248, 208249, 208250, 208251, 208252, 208253, 208254, 208255, 208256, 208257, 208258, 208259, 208260, 208261, 208262, 208263, 208264, 208265, 208266, 208267, 208268, 208269, 208270, 208271, 208272, 208273, 208274, 208275, 208276, 208277, 208278, 208279, 208280, 208281, 208282, 208283, 208284, 208285, 208286, 208287, 208288, 208289, 208290, 208291, 208292, 208293, 208294, 208295, 208296, 208297, 364494, 364495, 364496, 364497, 364498, 364499, 364500, 364501, 364502, 364503, 364504, 364505, 364506, 364507, 364508, 364509, 364510, 364511, 364512, 364513, 364514, 364515, 364516, 364517, 364518, 364519, 364520, 364521, 364522, 364523, 364524, 364525, 364526, 364527, 364528, 364529, 364530, 364531, 364532, 364533, 364534, 364535, 364536, 364537, 364538, 364539, 364540, 364541, 364542, 364543, 364544, 364545, 364546, 364547, 364548, 364549, 364550, 438727, 438728, 438729, 438730, 438731, 438732, 438733, 438734, 438735, 438736, 438737, 438738, 438739, 438740, 438741, 438742, 438743, 438744, 438745, 438746, 438747, 483538, 483539, 483540, 483541, 483542, 483543, 483544, 483545, 483546, 483547, 483548, 483549, 483550, 483551, 483552, 483553, 483554, 483555, 483556, 483557, 483558, 483559, 483560, 483561, 483562, 489236, 489237, 489238, 489239, 489240, 489241, 489242, 489243, 489244, 489245, 489246, 489247, 489248, 489249, 489250, 555581, 555582, 555583, 555584, 555585, 555586, 555587, 555588, 555589, 555590, 555591, 555592, 555593, 555594, 555595, 555596, 555597, 555598, 555599, 555600, 555601, 555602, 555603, 555604, 555605, 555606, 555607, 555608, 555609, 555610, 555611, 555612, 555613, 555614, 555615, 555616, 555617, 555618, 555619, 555620, 555621, 569079, 569080, 569081, 569082, 569083, 569084, 569085, 569086, 569087, 569088, 569089, 569090, 569091, 569092, 569093, 569094, 569095, 614949, 614950, 614951, 614952, 614953, 614954, 614955, 614956, 614957, 614958, 614959, 614960, 614961, 614962, 614963, 614964, 614965, 614966, 614967, 614968, 614969, 614970, 614971, 614972, 614973, 614974, 614975, 614976, 614977, 614978, 614979, 614980, 614981, 614982, 614983, 614984, 614985, 614986, 618494, 618495, 618496, 618497, 618498, 618499, 618500, 618501, 618502, 618503, 618504, 618505, 618506, 618507, 618508, 618509, 618510, 618511, 618512, 618513, 618514, 618515, 618516, 618517, 618518, 618519, 618520, 618521, 618522, 618523, 618524, 618525, 618526, 618527, 618528, 618529, 618530, 618531, 618532, 618533, 618534, 618535, 618536, 618537, 618538, 618539, 618540, 618541, 618542, 624565, 624566, 624567, 624568, 624569, 624570, 624571, 624572, 624573, 624574, 624575, 624576, 624577, 624578, 624579, 624580, 624581, 624582, 624583, 624584, 624585, 624586, 624587, 624588, 624589, 624590, 624591, 624592, 624593, 624594, 624595, 624596, 624597, 624598, 624599, 624600, 624601, 624602, 624603, 624604, 624605, 624606, 624607, 624608, 624609, 624610, 624611, 633386, 633387, 633388, 633389, 633390, 633391, 633392, 633393, 633394, 633395, 633396, 633397, 633398, 633399, 633400, 633401, 633402, 633403, 633404, 633405, 633406, 633407, 633408, 633409, 633410, 633411, 633412, 633413, 633414, 633415, 633416, 633417, 648671, 648672, 648673, 648674, 648675, 648676, 648677, 648678, 648679, 648680, 648681, 648682, 648683, 648684, 648685, 648686, 648687, 648688, 648689, 648690, 648691, 648692, 648693, 648694, 648695, 648696, 648697, 648698, 649036, 649037, 649038, 649039, 649040, 649041, 649042, 649043, 649044, 649045, 649046, 649047, 649048, 649049, 649050, 649051, 649052, 649053, 649054, 649055, 649056, 649057, 649058, 649059, 649060, 649061, 649062, 649063, 649064, 649065, 649066, 649067, 649068, 649069, 649070, 649071, 649072, 649073, 649074, 649075, 649076, 649077, 649078, 649079, 649080, 649081, 649082, 649083, 649084, 649085, 649086, 649087, 649088, 649089, 649090, 649091, 649092, 682983, 682984, 682985, 682986, 682987, 682988, 682989, 682990, 682991, 682992, 682993, 808126, 808127, 808128, 808129, 808130, 808131, 808132, 808133, 808134, 808135, 808136, 808137, 808138, 808139, 808140, 808141, 808142, 808143, 808144, 808145, 808146, 808147, 808148, 808149, 808150, 808151, 808152, 808153, 808154, 808155, 808156, 808157, 808158, 808159, 808160, 808161, 808162, 808163, 808164, 808165, 808166, 808167, 808168, 808169, 808170, 808171, 814466, 814467, 814468, 814469, 814470, 814471, 814472, 814473, 814474, 814475, 814476, 814477, 814478, 814479, 814480, 814481, 814482, 814483, 814484, 814485, 814486, 814487, 814488, 814489, 814490, 814491, 814492, 814493, 814494, 814495, 938574, 938575, 938576, 938577, 938578, 938579, 938580, 938581, 938582, 938583, 972424, 972425, 972426, 972427, 972428, 972429, 972430, 972431, 972432, 972433, 972434, 972435, 972436, 972437, 972438, 972439, 972440, 972441, 972442, 972443, 972444, 972445, 972446, 972447, 972448, 972449, 972450, 972451, 972452, 972453, 972454, 972455, 972456, 972457, 972458, 972459, 972460, 972461, 972462, 972463, 972464, 972465, 972466, 972467, 972468, 972469, 972470, 972471, 972472, 972473, 972474, 977157, 977158, 977159, 977160, 977161, 977162, 977163, 977164, 977165, 977166, 977167, 977168, 977169, 977170, 977171, 977172, 977173, 977174, 977175, 977176, 977177, 977178, 977179, 977180, 977181, 977182, 977183, 977184, 977185, 977186, 977187, 977188, 977189, 977190, 977191, 979832, 979833, 979834, 979835, 979836, 979837, 979838, 979839, 979840, 979841, 979842, 979843, 979844, 979845, 979846, 979847, 979848, 979849, 979850, 979851, 979852, 979853, 979854, 979855, 979856, 979857, 979858, 979859, 979860, 979861, 979862, 979863, 979864, 979865, 979866, 979867, 979868, 979869, 979870, 979871, 979872, 979873, 979874, 979875, 979876, 979877, 979878, 979879, 979880, 979881, 989872, 989873, 989874, 989875, 989876, 989877, 989878, 989879, 989880, 989881, 989882, 989883, 989884, 989885, 989886, 989887, 989888, 989889, 989890, 989891, 989892, 989893, 989894, 989895, 989896, 989897, 989898, 989899, 989900, 989901, 989902, 989903, 989904, 989905, 989906, 989907, 989908, 989909, 1016591, 1016592, 1016593, 1016594, 1016595, 1016596, 1016597, 1016598, 1016599, 1016600, 1016601, 1016602, 1016603, 1016604, 1016605, 1016606, 1016607, 1016608, 1016609, 1016610, 1016611, 1016612, 1016613, 1016614, 1016615, 1016616, 1016617, 1016618, 1016619, 1086634, 1086635, 1086636, 1086637, 1086638, 1086639, 1086640, 1086641, 1086642, 1086643, 1086644, 1086645, 1086646, 1086647, 1086648, 1086649, 1086650, 1086651, 1086652, 1086653, 1086654, 1086655, 1086656, 1086657, 1086658, 1086659, 1141986, 1141987, 1141988, 1141989, 1141990, 1141991, 1141992, 1141993, 1141994, 1141995, 1141996, 1141997, 1141998, 1141999, 1142000, 1142001, 1142002, 1142003, 1169728, 1169729, 1169730, 1169731, 1169732, 1169733, 1169734, 1169735, 1169736, 1169737, 1169738, 1169739, 1169740, 1169741, 1169742, 1169743, 1169744, 1169745, 1169746, 1169747, 1169748, 1169749, 1169750, 1169751, 1169752, 1169753, 1169754, 1169755, 1169756, 1169757, 1196613, 1196614, 1196615, 1196616, 1196617, 1196618, 1196619, 1196620, 1196621, 1196622, 1196623, 1196624, 1196625, 1196626, 1196627, 1196628, 1196629, 1196630, 1196631, 1196632, 1196633, 1196634, 1196635, 1196636, 1196637, 1196638, 1196639, 1196640, 1196641, 1196642, 1196643, 1196644, 1196645, 1196646, 1196647, 1196648, 1196649, 1196650, 1196651, 1196652, 1196653, 1196654, 1217041, 1217042, 1217043, 1217044, 1217045, 1217046, 1217047, 1217048, 1217049, 1217050, 1217051, 1217052, 1217053, 1217054, 1217055, 1217056, 1217057, 1217058, 1217059, 1217060, 1217061, 1217062, 1217063, 1217064, 1217065, 1217066, 1250273, 1250274, 1250275, 1250276, 1250277, 1250278, 1250279, 1250280, 1250281, 1250282, 1250283, 1250284, 1250285, 1250286, 1250287, 1250288, 1250289, 1250290, 1250291, 1250292, 1250293, 1250294, 1250295, 1250296, 1250297, 1250298, 1250299, 1250300, 1250301, 1250302, 1250303, 1250304, 1250305, 1277963, 1277964, 1277965, 1277966, 1277967, 1277968, 1277969, 1277970, 1277971, 1277972, 1277973, 1277974, 1277975, 1277976, 1277977, 1277978, 1277979, 1277980, 1277981, 1277982, 1277983, 1277984, 1277985, 1277986, 1277987, 1277988, 1277989, 1277990, 1277991, 1277992, 1277993, 1277994, 1277995, 1277996, 1277997, 1277998, 1277999, 1278000, 1278001, 1278002, 1278003, 1278004, 1278005, 1278006, 1297040, 1297041, 1297042, 1297043, 1297044, 1297045, 1297046, 1297047, 1297048, 1297049, 1297050, 1297051, 1297052, 1297053, 1297054, 1297055, 1297056, 1297057, 1297058, 1297059, 1297060, 1297061, 1297062, 1297063, 1297064, 1297065, 1297066, 1297067, 1297068, 1297069, 1297070, 1297071, 1297072, 1315721, 1315722, 1315723, 1315724, 1315725, 1315726, 1315727, 1315728, 1315729, 1315730, 1315731, 1315732, 1315733, 1315734, 1315735, 1315736, 1315737, 1315738, 1315739, 1315740, 1315741, 1315742, 1315743, 1315744, 1315745, 1315746, 1315747, 1315748, 1315749, 1315750, 1315751, 1315752, 1315753, 1315754, 1315755, 1315756, 1315757, 1315758, 1315759, 1315760, 1315761, 1315762, 1315763, 1315764, 1315765, 1315766, 1361871, 1361872, 1361873, 1361874, 1361875, 1361876, 1361877, 1361878, 1361879, 1361880, 1361881, 1361882, 1419339, 1419340, 1419341, 1419342, 1419343, 1419344, 1419345, 1419346, 1419347, 1419348, 1419349, 1419350, 1419351, 1431903, 1431904, 1431905, 1431906, 1431907, 1431908, 1431909, 1431910, 1431911, 1431912, 1431913, 1431914, 1431915, 1431916, 1431917, 1431918, 1431919, 1431920, 1431921, 1431922, 1464084, 1464085, 1464086, 1464087, 1464088, 1464089, 1464090, 1464091, 1464092, 1464093, 1464094, 1464095, 1464096, 1464097, 1464098, 1464099, 1464100, 1464101, 1464102, 1464103, 1464104, 1464105, 1464106, 1464107, 1464108, 1464109, 1464110, 1464111, 1464112, 1464113, 1464114, 1464115, 1464116, 1464117, 1464118, 1464119, 1464120, 1464121, 1464122, 1464123, 1464124, 1464125, 1464126, 1479088, 1479089, 1479090, 1479091, 1479092, 1479093, 1479094, 1479095, 1479096, 1479097, 1479098, 1479099, 1479100, 1479101, 1479102, 1479103, 1479104, 1479105, 1479106, 1479107, 1479108, 1479109, 1479110, 1479111, 1479112, 1479113, 1479114, 1479115, 1479116, 1479117, 1479118, 1479119, 1479120, 1479121, 1479122, 1479123, 1479124, 1479125, 1479126, 1479127, 1479128, 1492947, 1492948, 1492949, 1492950, 1492951, 1492952, 1492953, 1492954, 1492955, 1492956, 1492957, 1492958, 1492959, 1492960, 1492961, 1492962, 1528078, 1528079, 1528080, 1528081, 1528082, 1528083, 1528084, 1528085, 1528086, 1528087, 1528088, 1528089, 1528090, 1528091, 1528092, 1528093, 1528094, 1528095, 1528096, 1528097, 1528098, 1528099, 1528100, 1528101, 1528102, 1528103, 1528104, 1528105, 1528106, 1528107, 1528108, 1528109, 1528110, 1528111, 1528112, 1528113, 1528114, 1528115, 1528116, 1623550, 1623551, 1623552, 1623553, 1623554, 1623555, 1623556, 1623557, 1623558, 1623559, 1623560, 1623561, 1623562, 1623563, 1623564, 1623565, 1623566, 1623567, 1623568, 1623569, 1623570, 1623571, 1623572, 1623573, 1623574, 1623575, 1623576, 1623577, 1623578, 1623579, 1623580, 1623581, 1623582, 1623583, 1641063, 1641064, 1641065, 1641066, 1641067, 1641068, 1641069, 1641070, 1641071, 1641072, 1641073, 1641074, 1641075, 1641076, 1641077, 1641078, 1641079, 1641080, 1641081, 1641082, 1641083, 1641084, 1641085, 1641086, 1641087, 1641088, 1641089, 1641090, 1641091, 1641092, 1641093, 1641094, 1641095, 1641096, 1641097, 1641098, 1641099, 1641100, 1641101, 1641102, 1641103, 1647414, 1647415, 1647416, 1647417, 1647418, 1647419, 1647420, 1647421, 1647422, 1647423, 1647424, 1647425, 1647426, 1647427, 1647428, 1647429, 1647430, 1647431, 1647432, 1647433, 1647434, 1647435, 1647436, 1647437, 1647438, 1647439, 1647440, 1647441, 1647442, 1647443, 1647444, 1647445, 1647446, 1647447, 1647448, 1647449, 1647450, 1647451, 1647452, 1647453, 1647454, 1647455, 1647456, 1647457, 1647458, 1647459, 1647460, 1647461, 1647462, 1647463, 1650305, 1650306, 1650307, 1650308, 1650309, 1650310, 1650311, 1650312, 1650313, 1650314, 1650315, 1650316, 1650317, 1650318, 1650319, 1650320, 1650321, 1650322, 1650323, 1650324, 1650325, 1650326, 1650327, 1650328, 1650329, 1650330, 1650331, 1650332, 1650333, 1650334, 1650335, 1650336, 1650337, 1650338, 1650339, 1650340, 1650341, 1650342, 1650343, 1714878, 1714879, 1714880, 1714881, 1714882, 1714883, 1714884, 1714885, 1714886, 1714887, 1714888, 1714889, 1714890, 1714891, 1714892, 1714893, 1714894, 1714895, 1714896, 1714897, 1714898, 1714899, 1714900, 1714901, 1714902, 1714903, 1714904, 1714905, 1714906, 1714907, 1714908, 1714909, 1714910, 1714911, 1714912, 1714913, 1714914, 1714915, 1714916, 1714917, 1720803, 1720804, 1720805, 1720806, 1720807, 1720808, 1720809, 1720810, 1720811, 1720812, 1720813, 1720814, 1720815, 1720816, 1720817, 1720818, 1720819, 1720820, 1720821, 1720822, 1720823, 1720824, 1720825, 1720826, 1720827, 1720828, 1720829, 1720830, 1720831, 1720832, 1720833, 1720834, 1720835, 1720836, 1720837, 1720838, 1720839, 1720840, 1720841, 1720842, 1720843, 1720844, 1720845, 1720846, 1720847, 1720848, 1720849, 1720850, 1720851, 1720852, 1720853, 1720854, 1720855, 1720856, 1732311, 1732312, 1732313, 1732314, 1732315, 1732316, 1732317, 1732318, 1732319, 1732320, 1732321, 1732322, 1732323, 1732324, 1732325, 1732326, 1732327, 1732328, 1732329, 1732330, 1732331, 1732332, 1732333, 1732334, 1751909, 1751910, 1751911, 1751912, 1751913, 1751914, 1751915, 1751916, 1751917, 1751918, 1751919, 1751920, 1751921, 1751922, 1751923, 1751924, 1751925, 1751926, 1751927, 1751928, 1751929, 1751930, 1751931, 1751932, 1751933, 1751934, 1751935, 1751936, 1751937, 1751938, 1751939, 1751940, 1751941, 1751942, 1751943, 1751944, 1751945, 1751946, 1751947, 1751948, 1751949, 1751950, 1751951, 1751952, 1751953, 1751954, 1751955, 1751956, 1751957, 1751958, 1751959, 1751960, 1751961, 1794421, 1794422, 1794423, 1794424, 1794425, 1794426, 1794427, 1794428, 1794429, 1794430, 1794431, 1794432, 1794433, 1794434, 1794435, 1794436, 1794437, 1794438, 1794439, 1794440, 1794441, 1794442, 1794443, 1794444, 1794445, 1794446, 1794447, 1794448, 1794449, 1794450, 1794451, 1794452, 1794453, 1794454, 1794455, 1794456, 1794457, 1794458, 1794459, 1794460, 1794461, 1794462, 1794463, 1794464, 1794465, 1794466, 1794467, 1794468, 1794469, 1794470, 1794471, 1794472, 1794473, 1794474, 1794475, 1794476, 1794477, 1794478, 1794479, 1819308, 1819309, 1819310, 1819311, 1819312, 1819313, 1819314, 1819315, 1819316, 1819317, 1819318, 1819319, 1819320, 1819321, 1819322, 1819323, 1819324, 1819325, 1819326, 1819327, 1819328, 1819329, 1819330, 1819331, 1819332, 1819333, 1819334, 1819335, 1819336, 1819337, 1819338, 1819339, 1819340, 1819341, 1819342, 1819343]\n"
     ]
    }
   ],
   "source": [
    "Global_active_power_Null=df[df['Global_active_power'].isnull()].index.tolist()\n",
    "print(Global_active_power_Null)"
   ]
  },
  {
   "cell_type": "code",
   "execution_count": 22,
   "metadata": {},
   "outputs": [
    {
     "name": "stdout",
     "output_type": "stream",
     "text": [
      "0.62\n"
     ]
    }
   ],
   "source": [
    "Global_active_powerMedian=df['Global_active_power'].median()\n",
    "print(Global_active_powerMedian)"
   ]
  },
  {
   "cell_type": "code",
   "execution_count": 23,
   "metadata": {},
   "outputs": [
    {
     "name": "stderr",
     "output_type": "stream",
     "text": [
      "C:\\Users\\Ravi\\Anaconda3\\lib\\site-packages\\pandas\\core\\indexing.py:205: SettingWithCopyWarning: \n",
      "A value is trying to be set on a copy of a slice from a DataFrame\n",
      "\n",
      "See the caveats in the documentation: http://pandas.pydata.org/pandas-docs/stable/user_guide/indexing.html#returning-a-view-versus-a-copy\n",
      "  self._setitem_with_indexer(indexer, value)\n"
     ]
    }
   ],
   "source": [
    "df['Global_active_power'].iloc[Global_active_power_Null]=Global_active_powerMedian"
   ]
  },
  {
   "cell_type": "code",
   "execution_count": 24,
   "metadata": {},
   "outputs": [
    {
     "name": "stdout",
     "output_type": "stream",
     "text": [
      "[]\n"
     ]
    }
   ],
   "source": [
    "Global_active_power_Null=df[df['Global_active_power'].isnull()].index.tolist()\n",
    "print(Global_active_power_Null)"
   ]
  },
  {
   "cell_type": "code",
   "execution_count": 25,
   "metadata": {},
   "outputs": [
    {
     "name": "stdout",
     "output_type": "stream",
     "text": [
      "0.000    444686\n",
      "0.100     20106\n",
      "0.098     20047\n",
      "0.096     20033\n",
      "0.102     19972\n",
      "          ...  \n",
      "1.186         1\n",
      "0.952         1\n",
      "1.180         1\n",
      "1.044         1\n",
      "0.976         1\n",
      "Name: Global_reactive_power, Length: 530, dtype: int64\n"
     ]
    }
   ],
   "source": [
    "print(df['Global_reactive_power'].value_counts(dropna=False))"
   ]
  },
  {
   "cell_type": "code",
   "execution_count": 26,
   "metadata": {},
   "outputs": [
    {
     "data": {
      "image/png": "[encoded data removed]",
      "text/plain": [
       "<Figure size 432x288 with 1 Axes>"
      ]
     },
     "metadata": {
      "needs_background": "light"
     },
     "output_type": "display_data"
    }
   ],
   "source": [
    "sns.countplot(x=\"Global_reactive_power\",data=df)\n",
    "plt.show()"
   ]
  },
  {
   "cell_type": "code",
   "execution_count": 27,
   "metadata": {},
   "outputs": [
    {
     "name": "stdout",
     "output_type": "stream",
     "text": [
      "[251237, 251238, 251239, 251240, 251241, 251242, 251243, 251244, 251245, 251246, 251247, 251248, 251249, 251250, 251251, 251252, 251253, 251254, 251255, 251256, 251257, 251258, 251259, 251260, 251261, 251262, 251263, 251264, 251265, 251266, 251267, 251268, 251269, 251270, 251271, 251272, 251273, 251274, 251275, 251276, 266921, 266922, 266923, 266924, 266925, 266926, 266927, 266928, 266929, 266930, 266931, 266932, 266933, 266934, 266935, 266936, 266937, 266938, 266939, 266940, 266941, 266942, 266943, 266944, 266945, 266946, 266947, 266948, 266949, 266950, 266951, 266952, 266953, 266954, 266955, 286205, 286206, 286207, 286208, 286209, 286210, 286211, 286212, 286213, 286214, 286215, 286216, 286217, 286218, 286219, 286220, 286221, 286222, 286223, 286224, 286225, 286226, 286227, 286228, 286229, 286230, 286231, 286232, 286233, 286234, 286235, 286236, 286237, 286238, 286239, 286240, 286241, 286242, 286243, 286244, 286245, 286246, 286247, 286248, 286249, 286250, 286251, 286252, 286253, 286254, 286255, 286256, 286257, 286258, 289897, 289898, 289899, 289900, 289901, 289902, 289903, 289904, 289905, 289906, 289907, 289908, 289909, 289910, 289911, 289912, 289913, 694016, 694017, 694018, 694019, 694020, 694021, 694022, 694023, 694024, 694025, 694026, 694027, 694028, 694029, 694030, 694031, 694032, 694033, 694034, 694035, 694036, 694037, 694038, 694039, 694040, 694041, 694042, 694043, 694044, 694045, 694046, 694047, 694048, 694049, 694050, 694051, 694052, 694053, 694054, 694055, 694056, 694057, 694058, 694059, 694060, 694061, 694062, 694063, 694064, 694065, 694066, 694067, 694068, 694069, 694070, 694071, 694072, 694073, 694074, 722592, 722593, 722594, 722595, 722596, 722597, 722598, 722599, 722600, 722601, 722602, 722603, 722604, 722605, 722606, 722607, 722608, 722609, 722610, 722611, 722612, 722613, 722614, 840888, 840889, 840890, 840891, 840892, 840893, 840894, 840895, 840896, 840897, 840898, 840899, 840900, 840901, 840902, 946798, 946799, 946800, 946801, 946802, 946803, 946804, 946805, 946806, 946807, 946808, 946809, 946810, 946811, 946812, 946813, 1043028, 1043029, 1043030, 1043031, 1043032, 1043033, 1043034, 1043035, 1043036, 1043037, 1043038, 1043039, 1043040, 1043041, 1043042, 1043043, 1043044, 1043045, 1043046, 1043047, 1043048, 1043049, 1043050, 1043051, 1043052, 1043053, 1043054, 1043055, 1043056, 1043057, 1043058, 1043059, 1043060, 1043061, 1043062, 1043063, 1043064, 1043065, 1043066, 1043067, 1043068, 1043069, 1043070, 1043071, 1043072, 1043073, 1043074, 1043075, 1043076, 1043077, 1318074, 1318075, 1318076, 1318077, 1318078, 1318079, 1318080, 1318081, 1318082, 1318083, 1318084, 1318085, 1318086, 1318087, 1318088, 1318089, 1318090, 1318091, 1318092, 1318093, 1318094, 1318095, 1318096, 1318097, 1318098, 1318099, 1318100, 1318101, 1318102, 1318103, 1318104, 1318105, 1318106, 1318107, 1318108, 1318109, 1318110, 1318111, 1318112, 1318113, 1318114, 1318115, 1318116, 1318117, 1318118, 1318119, 1318120, 1318121, 1318122, 1318123, 1318124, 1318125, 1443613, 1443614, 1443615, 1443616, 1443617, 1443618, 1443619, 1443620, 1443621, 1443622, 1443623, 1443624, 1443625, 1443626, 1443627, 1443628, 1443629, 1443630, 1443631, 1443632, 1443633, 1443634, 1443635, 1443636, 1443637, 1729269, 1729270, 1729271, 1729272, 1729273, 1729274, 1729275, 1729276, 1729277, 1729278, 1729279, 1729280, 1729281, 1729282, 1729283, 1729284, 1729285, 1729286, 1729287, 1729288, 1729289, 1729290, 1729291, 1729292, 1729293, 1729294, 1729295, 1729296, 1729297, 1729298, 1729299, 1729300, 1729301, 1729302, 1729303, 1729304, 1729305, 1729306, 1729307, 1729308, 1729309, 1729310, 1729311, 1729312, 1729313, 1729314, 1729315, 1729316, 1729317, 1729318, 1729319, 1729320, 1729321]\n"
     ]
    }
   ],
   "source": [
    "Global_reactive_power_Null=df[df['Global_reactive_power'].isnull()].index.tolist()\n",
    "print(Global_reactive_power_Null)"
   ]
  },
  {
   "cell_type": "code",
   "execution_count": 28,
   "metadata": {
    "scrolled": true
   },
   "outputs": [
    {
     "name": "stdout",
     "output_type": "stream",
     "text": [
      "[]\n"
     ]
    }
   ],
   "source": [
    "df['Global_reactive_power'].iloc[Global_reactive_power_Null]=\"0.000\"\n",
    "Global_reactive_power_Null=df[df[\"Global_reactive_power\"].isnull()].index.tolist()\n",
    "print(Global_reactive_power_Null)"
   ]
  },
  {
   "cell_type": "code",
   "execution_count": 29,
   "metadata": {},
   "outputs": [
    {
     "name": "stdout",
     "output_type": "stream",
     "text": [
      "241.18    3176\n",
      "241.02    2884\n",
      "241.12    2873\n",
      "241.53    2870\n",
      "241.35    2868\n",
      "          ... \n",
      "224.74       1\n",
      "224.24       1\n",
      "223.99       1\n",
      "223.49       1\n",
      "223.85       1\n",
      "Name: Voltage, Length: 2835, dtype: int64\n"
     ]
    }
   ],
   "source": [
    "print(df['Voltage'].value_counts(dropna=False))"
   ]
  },
  {
   "cell_type": "code",
   "execution_count": 30,
   "metadata": {},
   "outputs": [
    {
     "data": {
      "image/png": "[encoded data removed]",
      "text/plain": [
       "<Figure size 432x288 with 1 Axes>"
      ]
     },
     "metadata": {
      "needs_background": "light"
     },
     "output_type": "display_data"
    }
   ],
   "source": [
    "sns.countplot(x=\"Voltage\",data=df)\n",
    "plt.show()"
   ]
  },
  {
   "cell_type": "code",
   "execution_count": 31,
   "metadata": {},
   "outputs": [
    {
     "name": "stdout",
     "output_type": "stream",
     "text": [
      "[37780, 37781, 37782, 37783, 37784, 37785, 37786, 37787, 37788, 37789, 37790, 37791, 37792, 37793, 37794, 37795, 37796, 37797, 37798, 37799, 37800, 37801, 37802, 37803, 37804, 37805, 37806, 37807, 37808, 37809, 37810, 37811, 37812, 101184, 101185, 101186, 101187, 101188, 101189, 101190, 101191, 101192, 101193, 101194, 101195, 101196, 101197, 101198, 101199, 101200, 101201, 101202, 101203, 101204, 101205, 101206, 101207, 101208, 101209, 101210, 101211, 101212, 101213, 101214, 101215, 101216, 101217, 101218, 101219, 101220, 101221, 101222, 101223, 101224, 101225, 101226, 101227, 126272, 126273, 126274, 126275, 126276, 126277, 126278, 126279, 126280, 126281, 126282, 126283, 126284, 126285, 126286, 126287, 126288, 126289, 126290, 126291, 126292, 126293, 126294, 126295, 126296, 126297, 126298, 126299, 126300, 126301, 126302, 126303, 126304, 126305, 126306, 126307, 126308, 126309, 126310, 126311, 126312, 126313, 126314, 126315, 126316, 126317, 126318, 126319, 126320, 126321, 126322, 126323, 126324, 126325, 126326, 126327, 126328, 139063, 139064, 139065, 139066, 139067, 139068, 139069, 139070, 139071, 139072, 139073, 139074, 139075, 139076, 139077, 139078, 139079, 139080, 139081, 139082, 139083, 139084, 139085, 139086, 139087, 139088, 139089, 139090, 139091, 139092, 139093, 139094, 139095, 139096, 139097, 139098, 139099, 139100, 139101, 139102, 139103, 139104, 139105, 139106, 161467, 161468, 161469, 161470, 161471, 161472, 161473, 161474, 161475, 161476, 161477, 161478, 161479, 161480, 161481, 161482, 161483, 161484, 161485, 161486, 161487, 161488, 161489, 161490, 161491, 161492, 161493, 161494, 161495, 161496, 161497, 161498, 161499, 161500, 161501, 161502, 161503, 161504, 161505, 161506, 161507, 161508, 161509, 161510, 161511, 161512, 161513, 173316, 173317, 173318, 173319, 173320, 173321, 173322, 173323, 173324, 173325, 173326, 173327, 173328, 173329, 173330, 173331, 173332, 173333, 173334, 173335, 173336, 173337, 173338, 173339, 173340, 173341, 173342, 173343, 173344, 173345, 173346, 173347, 173348, 173349, 173350, 173351, 182931, 182932, 182933, 182934, 182935, 182936, 182937, 182938, 182939, 182940, 182941, 182942, 182943, 182944, 182945, 182946, 182947, 182948, 182949, 182950, 182951, 182952, 182953, 182954, 182955, 182956, 182957, 182958, 182959, 182960, 182961, 222336, 222337, 222338, 222339, 222340, 222341, 222342, 222343, 222344, 222345, 222346, 222347, 222348, 222349, 222350, 227102, 227103, 227104, 227105, 227106, 227107, 227108, 227109, 227110, 227111, 227112, 227113, 227114, 227115, 227116, 227117, 227118, 227119, 227120, 264411, 264412, 264413, 264414, 264415, 264416, 264417, 264418, 264419, 264420, 264421, 264422, 264423, 264424, 264425, 264426, 264427, 264428, 264429, 264430, 264431, 264432, 264433, 264434, 264435, 264436, 264437, 264438, 264439, 264440, 264441, 264442, 264443, 264444, 264445, 264446, 264447, 290792, 290793, 290794, 290795, 290796, 290797, 290798, 290799, 290800, 290801, 290802, 290803, 290804, 290805, 290806, 290807, 290808, 290809, 290810, 290811, 290812, 290813, 290814, 290815, 290816, 290817, 290818, 290819, 290820, 290821, 290822, 290823, 290824, 290825, 290826, 290827, 290828, 290829, 290830, 290831, 290832, 290833, 290834, 290835, 290836, 290837, 290838, 290839, 290840, 290841, 290842, 290843, 290844, 290845, 290846, 290847, 290848, 290849, 305129, 305130, 305131, 305132, 305133, 305134, 305135, 305136, 305137, 305138, 305139, 305140, 305141, 305142, 305143, 305144, 305145, 305146, 305147, 305148, 305149, 305150, 305151, 305152, 305153, 305154, 305155, 305156, 305157, 305158, 305159, 305160, 305161, 305162, 305163, 305164, 305165, 305166, 305167, 305168, 305169, 305170, 305171, 305172, 305173, 305174, 305175, 320692, 320693, 320694, 320695, 320696, 320697, 320698, 320699, 320700, 320701, 320702, 320703, 320704, 320705, 320706, 320707, 320708, 320709, 320710, 320711, 320712, 320713, 320714, 320715, 320716, 320717, 320718, 320719, 320720, 320721, 320722, 320723, 320724, 320725, 320726, 320727, 320728, 320729, 320730, 320731, 320732, 320733, 320734, 320735, 320736, 320737, 320738, 320739, 320740, 320741, 320742, 320743, 320744, 320745, 320746, 320747, 320748, 334086, 334087, 334088, 334089, 334090, 334091, 334092, 334093, 334094, 334095, 334096, 334097, 334098, 334099, 334100, 334101, 334102, 334103, 334104, 334105, 334106, 334107, 334108, 334109, 334110, 334111, 334112, 334113, 334114, 334115, 334116, 334117, 334118, 334119, 334120, 334121, 334122, 338105, 338106, 338107, 338108, 338109, 338110, 338111, 338112, 338113, 338114, 338115, 338116, 338117, 338118, 338119, 338120, 338121, 338122, 338123, 338124, 338125, 338126, 338127, 338128, 338129, 338130, 338131, 338132, 338133, 338134, 338135, 338136, 338137, 338138, 338139, 338140, 338141, 338142, 338143, 338144, 338145, 338146, 338147, 338148, 338149, 338150, 338151, 338152, 338153, 338154, 338155, 338156, 338157, 338158, 338159, 338160, 338161, 338162, 358258, 358259, 358260, 358261, 358262, 358263, 358264, 358265, 358266, 358267, 358268, 358269, 358270, 358271, 358272, 358273, 358274, 358275, 358276, 358277, 358278, 358279, 358280, 358281, 358282, 358283, 358284, 358285, 358286, 358287, 358288, 358289, 358290, 358291, 358292, 358293, 358294, 358295, 358296, 358297, 358298, 358299, 358300, 371080, 371081, 371082, 371083, 371084, 371085, 371086, 371087, 371088, 371089, 371090, 371091, 371092, 371093, 371094, 371095, 371096, 371097, 371098, 371099, 371100, 371101, 371102, 371103, 371104, 371105, 371106, 371107, 371108, 439345, 439346, 439347, 439348, 439349, 439350, 439351, 439352, 439353, 439354, 439355, 439356, 439357, 439358, 439359, 439360, 439361, 439362, 439363, 439364, 439365, 439366, 439367, 439368, 439369, 439370, 439371, 439372, 439373, 439374, 439375, 439376, 439377, 439378, 439379, 439380, 439381, 439382, 439383, 439384, 439385, 439386, 439387, 439388, 439389, 439390, 439391, 439392, 439393, 439394, 439395, 439396, 439397, 439398, 439399, 439400, 439401, 456589, 456590, 456591, 456592, 456593, 456594, 456595, 456596, 456597, 456598, 456599, 456600, 456601, 456602, 456603, 456604, 456605, 456606, 456607, 456608, 456609, 456610, 456611, 456612, 456613, 456614, 456615, 456616, 456617, 456618, 456619, 456620, 456621, 456622, 456623, 456624, 456625, 456626, 456627, 456628, 456629, 456630, 456631, 456632, 456633, 456634, 456635, 456636, 456637, 456638, 456639, 456640, 456641, 456642, 456643, 456644, 477951, 477952, 477953, 477954, 477955, 477956, 477957, 477958, 477959, 477960, 477961, 477962, 477963, 477964, 477965, 477966, 477967, 477968, 477969, 477970, 477971, 477972, 477973, 477974, 477975, 477976, 477977, 477978, 477979, 477980, 477981, 506321, 506322, 506323, 506324, 506325, 506326, 506327, 506328, 506329, 506330, 506331, 506332, 506333, 506334, 506335, 506336, 506337, 506338, 506339, 506340, 506341, 506342, 506343, 506344, 506345, 506346, 506347, 506348, 506349, 506350, 506351, 506352, 506353, 506354, 506355, 506356, 506357, 506358, 506359, 506360, 506361, 506362, 506363, 575104, 575105, 575106, 575107, 575108, 575109, 575110, 575111, 575112, 575113, 575114, 575115, 575116, 575117, 575118, 575119, 575120, 575121, 575122, 575123, 575124, 575125, 575126, 575127, 575128, 575129, 575130, 575131, 575132, 575133, 575134, 575135, 575136, 575137, 575138, 575139, 575140, 575141, 575142, 575143, 591941, 591942, 591943, 591944, 591945, 591946, 591947, 591948, 591949, 591950, 591951, 591952, 591953, 591954, 591955, 591956, 591957, 591958, 591959, 591960, 591961, 615131, 615132, 615133, 615134, 615135, 615136, 615137, 615138, 615139, 615140, 615141, 615142, 615143, 615144, 615145, 615146, 615147, 615148, 635363, 635364, 635365, 635366, 635367, 635368, 635369, 635370, 635371, 635372, 635373, 635374, 635375, 635376, 635377, 635378, 635379, 635380, 635381, 635382, 635383, 635384, 635385, 635386, 635387, 635388, 635389, 635390, 635391, 635392, 635393, 635394, 635395, 635396, 635397, 635398, 635399, 635400, 635401, 635402, 635403, 635404, 635405, 635406, 635407, 635408, 635409, 635410, 635411, 635412, 635413, 635414, 635415, 635416, 645730, 645731, 645732, 645733, 645734, 645735, 645736, 645737, 645738, 645739, 645740, 645741, 645742, 645743, 645744, 645745, 645746, 645747, 645748, 645749, 645750, 645751, 645752, 645753, 645754, 645755, 645756, 645757, 645758, 645759, 645760, 645761, 645762, 645763, 645764, 645765, 645766, 645767, 645768, 645769, 645770, 645771, 645772, 645773, 645774, 645775, 645776, 645777, 645778, 647986, 647987, 647988, 647989, 647990, 647991, 647992, 647993, 647994, 647995, 647996, 647997, 647998, 647999, 648000, 648001, 648002, 648003, 648004, 648005, 648006, 648007, 648008, 648009, 648010, 648011, 648012, 648013, 648014, 648015, 648016, 648017, 648018, 648019, 648020, 648021, 648022, 648023, 648024, 648025, 648026, 648027, 648028, 648029, 648030, 648031, 648032, 669134, 669135, 669136, 669137, 669138, 669139, 669140, 669141, 669142, 669143, 669144, 669145, 669146, 669147, 669148, 669149, 669150, 669151, 669152, 669153, 669154, 669155, 669156, 741948, 741949, 741950, 741951, 741952, 741953, 741954, 741955, 741956, 741957, 741958, 741959, 741960, 741961, 741962, 741963, 741964, 741965, 741966, 741967, 741968, 741969, 741970, 741971, 741972, 741973, 741974, 741975, 741976, 741977, 741978, 741979, 741980, 741981, 741982, 741983, 741984, 741985, 741986, 741987, 741988, 741989, 741990, 741991, 741992, 741993, 741994, 741995, 741996, 741997, 741998, 741999, 742000, 742001, 742002, 886717, 886718, 886719, 886720, 886721, 886722, 886723, 886724, 886725, 886726, 886727, 886728, 886729, 886730, 886731, 886732, 886733, 886734, 886735, 886736, 886737, 886738, 886739, 886740, 886741, 886742, 886743, 886744, 886745, 886746, 886747, 886748, 886749, 886750, 886751, 886752, 886753, 886754, 886755, 886756, 886757, 886758, 886759, 886760, 895661, 895662, 895663, 895664, 895665, 895666, 895667, 895668, 895669, 895670, 895671, 895672, 895673, 895674, 895675, 895676, 895677, 895678, 895679, 895680, 895681, 895682, 895683, 895684, 895685, 895686, 895687, 895688, 895689, 895690, 895691, 895692, 895693, 895694, 918578, 918579, 918580, 918581, 918582, 918583, 918584, 918585, 918586, 918587, 918588, 918589, 918590, 918591, 918592, 918593, 918594, 918595, 918596, 918597, 918598, 918599, 918600, 918601, 918602, 918603, 918604, 918605, 918606, 918607, 918608, 918609, 918610, 918611, 918612, 918613, 918614, 918615, 918616, 918617, 918618, 918619, 918620, 918621, 934296, 934297, 934298, 934299, 934300, 934301, 934302, 934303, 934304, 934305, 934306, 934307, 934308, 1001573, 1001574, 1001575, 1001576, 1001577, 1001578, 1001579, 1001580, 1001581, 1001582, 1001583, 1001584, 1001585, 1001586, 1001587, 1001588, 1001589, 1001590, 1016052, 1016053, 1016054, 1016055, 1016056, 1016057, 1016058, 1016059, 1016060, 1016061, 1016062, 1016063, 1016064, 1016065, 1016066, 1016067, 1016068, 1016069, 1016070, 1016071, 1016072, 1016073, 1016074, 1016075, 1016076, 1016077, 1064963, 1064964, 1064965, 1064966, 1064967, 1064968, 1064969, 1064970, 1064971, 1064972, 1064973, 1064974, 1064975, 1064976, 1064977, 1064978, 1068122, 1068123, 1068124, 1068125, 1068126, 1068127, 1068128, 1068129, 1068130, 1068131, 1068132, 1068133, 1068134, 1068135, 1068136, 1068137, 1068138, 1068139, 1068140, 1068141, 1068142, 1068143, 1068144, 1068145, 1068146, 1068147, 1068148, 1068149, 1068150, 1068151, 1068152, 1068153, 1068154, 1068155, 1068156, 1068157, 1068158, 1068159, 1072104, 1072105, 1072106, 1072107, 1072108, 1072109, 1072110, 1072111, 1072112, 1072113, 1072114, 1072115, 1072116, 1072117, 1072118, 1072119, 1072120, 1072121, 1072122, 1072123, 1072124, 1072125, 1072126, 1072127, 1072128, 1072129, 1072130, 1072131, 1072132, 1072133, 1072134, 1072135, 1072136, 1072137, 1072138, 1072139, 1072140, 1072141, 1072142, 1072143, 1072144, 1072145, 1072146, 1072147, 1072148, 1072149, 1072150, 1072151, 1114776, 1114777, 1114778, 1114779, 1114780, 1114781, 1114782, 1114783, 1114784, 1114785, 1114786, 1114787, 1114788, 1114789, 1114790, 1114791, 1114792, 1114793, 1114794, 1114795, 1114796, 1114797, 1114798, 1114799, 1114800, 1114801, 1114802, 1114803, 1114804, 1114805, 1114806, 1114807, 1114808, 1114809, 1114810, 1114811, 1114812, 1114813, 1114814, 1114815, 1114816, 1114817, 1114818, 1114819, 1114820, 1114821, 1114822, 1114823, 1114824, 1114825, 1114826, 1114827, 1114828, 1114829, 1114830, 1114831, 1126137, 1126138, 1126139, 1126140, 1126141, 1126142, 1126143, 1126144, 1126145, 1126146, 1126147, 1126148, 1126149, 1126150, 1126151, 1126152, 1126153, 1126154, 1126155, 1126156, 1126157, 1126158, 1126159, 1126160, 1126161, 1126162, 1126163, 1126164, 1126165, 1126166, 1126167, 1165311, 1165312, 1165313, 1165314, 1165315, 1165316, 1165317, 1165318, 1165319, 1165320, 1165321, 1165322, 1165323, 1165324, 1165325, 1165326, 1165327, 1165328, 1165329, 1165330, 1165331, 1165332, 1261229, 1261230, 1261231, 1261232, 1261233, 1261234, 1261235, 1261236, 1261237, 1261238, 1261239, 1261240, 1261241, 1261242, 1261243, 1261244, 1261245, 1261246, 1261247, 1261248, 1261249, 1261250, 1261251, 1261252, 1261253, 1261254, 1261255, 1261256, 1261257, 1261258, 1261259, 1261260, 1261261, 1261262, 1261263, 1261264, 1261265, 1261266, 1261267, 1261268, 1261269, 1282554, 1282555, 1282556, 1282557, 1282558, 1282559, 1282560, 1282561, 1282562, 1282563, 1282564, 1282565, 1282566, 1282567, 1282568, 1282569, 1282570, 1282571, 1282572, 1282573, 1282574, 1282575, 1282576, 1282577, 1282578, 1282579, 1282580, 1282581, 1282582, 1282583, 1282584, 1282585, 1282586, 1282587, 1282588, 1282589, 1282590, 1282591, 1282592, 1282593, 1282594, 1282595, 1282596, 1282597, 1282598, 1282599, 1282600, 1282601, 1282602, 1282603, 1282604, 1282605, 1282606, 1351648, 1351649, 1351650, 1351651, 1351652, 1351653, 1351654, 1351655, 1351656, 1351657, 1351658, 1351659, 1351660, 1351661, 1351662, 1351663, 1351664, 1351665, 1351666, 1351667, 1351668, 1351669, 1351670, 1351671, 1351672, 1351673, 1351674, 1351675, 1351676, 1351677, 1351678, 1351679, 1351680, 1351681, 1351682, 1351683, 1351684, 1351685, 1351686, 1351687, 1351688, 1351689, 1351690, 1351691, 1351692, 1351693, 1351694, 1351695, 1351696, 1351697, 1351698, 1351699, 1351700, 1351701, 1351702, 1351703, 1351704, 1351705, 1351706, 1426600, 1426601, 1426602, 1426603, 1426604, 1426605, 1426606, 1426607, 1426608, 1426609, 1426610, 1426611, 1426612, 1426613, 1426614, 1426615, 1426616, 1426617, 1426618, 1426619, 1426620, 1491041, 1491042, 1491043, 1491044, 1491045, 1491046, 1491047, 1491048, 1491049, 1491050, 1491051, 1491052, 1491053, 1491054, 1491055, 1491056, 1491057, 1491058, 1491059, 1491060, 1491061, 1491062, 1491063, 1491064, 1491065, 1491066, 1491067, 1565577, 1565578, 1565579, 1565580, 1565581, 1565582, 1565583, 1565584, 1565585, 1565586, 1565587, 1565588, 1565589, 1565590, 1565591, 1565592, 1565593, 1565594, 1565595, 1565596, 1565597, 1565598, 1565599, 1565600, 1565601, 1565602, 1565603, 1565604, 1602941, 1602942, 1602943, 1602944, 1602945, 1602946, 1602947, 1602948, 1602949, 1602950, 1602951, 1602952, 1602953, 1602954, 1602955, 1602956, 1602957, 1602958, 1602959, 1602960, 1602961, 1602962, 1602963, 1602964, 1602965, 1602966, 1602967, 1602968, 1602969, 1602970, 1602971, 1602972, 1629953, 1629954, 1629955, 1629956, 1629957, 1629958, 1629959, 1629960, 1629961, 1629962, 1629963, 1629964, 1629965, 1629966, 1629967, 1629968, 1629969, 1629970, 1629971, 1629972, 1629973, 1629974, 1629975, 1629976, 1629977, 1629978, 1629979, 1629980, 1629981, 1629982, 1629983, 1629984, 1629985, 1629986, 1629987, 1629988, 1629989, 1629990, 1629991, 1629992, 1629993, 1629994, 1629995, 1629996, 1629997, 1629998, 1629999, 1698883, 1698884, 1698885, 1698886, 1698887, 1698888, 1698889, 1698890, 1698891, 1698892, 1698893, 1698894, 1698895, 1698896, 1698897, 1698898, 1698899, 1698900, 1698901, 1698902, 1698903, 1698904, 1698905, 1698906, 1698907, 1698908, 1698909, 1698910, 1698911, 1698912, 1698913, 1698914, 1698915, 1698916, 1698917, 1768181, 1768182, 1768183, 1768184, 1768185, 1768186, 1768187, 1768188, 1768189, 1768190, 1768191, 1768192, 1768193, 1768194, 1768195, 1768196, 1768197, 1768198, 1768199, 1768200, 1768201, 1768202, 1768203, 1768204, 1768205, 1768206, 1768207, 1768208, 1768209, 1768210, 1768211, 1768212, 1768213, 1768214, 1768215, 1768216, 1768217, 1768218, 1768219, 1768220, 1768221, 1768222, 1768223, 1768224, 1768225, 1768226, 1768227, 1768228, 1768229, 1768230, 1768231, 1768232, 1768233, 1768234, 1768235, 1768236, 1772756, 1772757, 1772758, 1772759, 1772760, 1772761, 1772762, 1772763, 1772764, 1772765, 1772766, 1772767, 1772768, 1772769, 1772770, 1772771, 1772772, 1772773, 1772774, 1772775, 1772776, 1772777, 1772778, 1772779, 1772780, 1772781, 1772782, 1772783, 1772784]\n"
     ]
    }
   ],
   "source": [
    "Voltage_Null=df[df[\"Voltage\"].isnull()].index.tolist()\n",
    "print(Voltage_Null)"
   ]
  },
  {
   "cell_type": "code",
   "execution_count": 32,
   "metadata": {},
   "outputs": [
    {
     "name": "stdout",
     "output_type": "stream",
     "text": [
      "240.80082135531356\n"
     ]
    }
   ],
   "source": [
    "VoltageMean=df['Voltage'].mean()\n",
    "print(VoltageMean)"
   ]
  },
  {
   "cell_type": "code",
   "execution_count": 33,
   "metadata": {},
   "outputs": [],
   "source": [
    "df['Voltage'].iloc[Voltage_Null]=VoltageMean"
   ]
  },
  {
   "cell_type": "code",
   "execution_count": 34,
   "metadata": {},
   "outputs": [
    {
     "name": "stdout",
     "output_type": "stream",
     "text": [
      "[]\n"
     ]
    }
   ],
   "source": [
    "Voltage_Null=df[df[\"Voltage\"].isnull()].index.tolist()\n",
    "print(Voltage_Null)"
   ]
  },
  {
   "cell_type": "code",
   "execution_count": 35,
   "metadata": {},
   "outputs": [
    {
     "name": "stdout",
     "output_type": "stream",
     "text": [
      "1.0     154372\n",
      "1.4     150368\n",
      "1.2     123211\n",
      "1.6     101474\n",
      "1.8      85680\n",
      "         ...  \n",
      "42.2         1\n",
      "43.2         1\n",
      "42.6         1\n",
      "40.6         1\n",
      "48.4         1\n",
      "Name: Global_intensity, Length: 221, dtype: int64\n"
     ]
    }
   ],
   "source": [
    "print(df['Global_intensity'].value_counts(dropna=False))"
   ]
  },
  {
   "cell_type": "code",
   "execution_count": 36,
   "metadata": {},
   "outputs": [
    {
     "data": {
      "image/png": "[encoded data removed]",
      "text/plain": [
       "<Figure size 432x288 with 1 Axes>"
      ]
     },
     "metadata": {
      "needs_background": "light"
     },
     "output_type": "display_data"
    }
   ],
   "source": [
    "sns.countplot(x=\"Global_intensity\",data=df)\n",
    "plt.show()"
   ]
  },
  {
   "cell_type": "code",
   "execution_count": 37,
   "metadata": {},
   "outputs": [
    {
     "name": "stdout",
     "output_type": "stream",
     "text": [
      "[7725, 7726, 7727, 7728, 7729, 7730, 7731, 7732, 7733, 7734, 7735, 7736, 7737, 7738, 7739, 7740, 7741, 7742, 7743, 7744, 7745, 7746, 7747, 7748, 7749, 7750, 7751, 7752, 7753, 7754, 7755, 7756, 7757, 7758, 7759, 7760, 7761, 7762, 7763, 7764, 7765, 7766, 7767, 7768, 7769, 7770, 7771, 7772, 7773, 7774, 7775, 7776, 7777, 14229, 14230, 14231, 14232, 14233, 14234, 14235, 14236, 14237, 14238, 14239, 14240, 14241, 14242, 14243, 14244, 14245, 14246, 14247, 14248, 14249, 14250, 14251, 14252, 14253, 14254, 14255, 14256, 14257, 14258, 14259, 14260, 14261, 14262, 14263, 14264, 14265, 14266, 14267, 14268, 14269, 14270, 14271, 14272, 14273, 14274, 14275, 14276, 14277, 14278, 14279, 14280, 14281, 14282, 38637, 38638, 38639, 38640, 38641, 38642, 38643, 38644, 38645, 38646, 38647, 38648, 38649, 38650, 38651, 38652, 38653, 38654, 38655, 38656, 38657, 83197, 83198, 83199, 83200, 83201, 83202, 83203, 83204, 83205, 83206, 83207, 83208, 83209, 83210, 83211, 83212, 83213, 83214, 83215, 83216, 83217, 83218, 83219, 83220, 83221, 83222, 83223, 83224, 83225, 83226, 83227, 83228, 83229, 83230, 83231, 83232, 83233, 83234, 83235, 83236, 83237, 83238, 83239, 83240, 83241, 83242, 195467, 195468, 195469, 195470, 195471, 195472, 195473, 195474, 195475, 195476, 195477, 195478, 195479, 195480, 220845, 220846, 220847, 220848, 220849, 220850, 220851, 220852, 220853, 220854, 220855, 220856, 220857, 220858, 220859, 220860, 220861, 220862, 220863, 220864, 324787, 324788, 324789, 324790, 324791, 324792, 324793, 324794, 324795, 324796, 324797, 324798, 328756, 328757, 328758, 328759, 328760, 328761, 328762, 328763, 328764, 328765, 328766, 328767, 328768, 328769, 328770, 328771, 328772, 328773, 328774, 328775, 328776, 328777, 328778, 328779, 328780, 328781, 328782, 328783, 328784, 328785, 328786, 328787, 328788, 328789, 328790, 328791, 328792, 328793, 328794, 328795, 328796, 357578, 357579, 357580, 357581, 357582, 357583, 357584, 357585, 357586, 357587, 357588, 357589, 357590, 357591, 357592, 357593, 357594, 357595, 357596, 357597, 357598, 357599, 357600, 357601, 357602, 357603, 357604, 357605, 357606, 357607, 357608, 357609, 357610, 357611, 357612, 357613, 357614, 357615, 357616, 357617, 357618, 357619, 412324, 412325, 412326, 412327, 412328, 412329, 412330, 412331, 412332, 412333, 412334, 412335, 412336, 412337, 412338, 412339, 412340, 412341, 412342, 412343, 412344, 412345, 412346, 412347, 412348, 412349, 412350, 412351, 412352, 412353, 412354, 412355, 412356, 412357, 412358, 412359, 412360, 412361, 412362, 412363, 412364, 412365, 412366, 412367, 412368, 412369, 412370, 412371, 412372, 412373, 412374, 412375, 420567, 420568, 420569, 420570, 420571, 420572, 420573, 420574, 420575, 420576, 420577, 420578, 420579, 420580, 420581, 420582, 420583, 420584, 420585, 420586, 420587, 420588, 420589, 420590, 420591, 420592, 420593, 420594, 420595, 420596, 420597, 420598, 420599, 420600, 420601, 420602, 420603, 420604, 420605, 420606, 420607, 420608, 420609, 420610, 420611, 420612, 420613, 420614, 420615, 420616, 420617, 420618, 420619, 420620, 420621, 420622, 420623, 420624, 420625, 433086, 433087, 433088, 433089, 433090, 433091, 433092, 433093, 433094, 433095, 433096, 433097, 433098, 433099, 433100, 433101, 433102, 433103, 433104, 433105, 433106, 433107, 433108, 433109, 433110, 433111, 433112, 433113, 433114, 433115, 433116, 433117, 433118, 433119, 433120, 433121, 433122, 440279, 440280, 440281, 440282, 440283, 440284, 440285, 440286, 440287, 440288, 440289, 440290, 440291, 440292, 440293, 440294, 440295, 440296, 440297, 440298, 440299, 440300, 440301, 440302, 440303, 440304, 440305, 440306, 440307, 440308, 440309, 440310, 440311, 440312, 440313, 440314, 440315, 440316, 440317, 440318, 440319, 440320, 440321, 440322, 440323, 440324, 440325, 440326, 450052, 450053, 450054, 450055, 450056, 450057, 450058, 450059, 450060, 450061, 450062, 450063, 450064, 450065, 450066, 450067, 450068, 450069, 450070, 450071, 450072, 450073, 450074, 450075, 450076, 450077, 450078, 450079, 450080, 450081, 450082, 450083, 450084, 450085, 450086, 450087, 450088, 450089, 450090, 450091, 450092, 450093, 450094, 450095, 450096, 450097, 450098, 450099, 450100, 450101, 450102, 450103, 450104, 450105, 450106, 450107, 529041, 529042, 529043, 529044, 529045, 529046, 529047, 529048, 529049, 529050, 529051, 529052, 529053, 529054, 529055, 529056, 529057, 541225, 541226, 541227, 541228, 541229, 541230, 541231, 541232, 541233, 541234, 541235, 541236, 541237, 541238, 541239, 541240, 541241, 541242, 541243, 541244, 541245, 541246, 541247, 541248, 541249, 541250, 541251, 541252, 541253, 541254, 541255, 541256, 541257, 541258, 541259, 541260, 541261, 541262, 541263, 541264, 541265, 541266, 541267, 541268, 541269, 541270, 541271, 541272, 541273, 541274, 541275, 541276, 541277, 541278, 541279, 541280, 541281, 542346, 542347, 542348, 542349, 542350, 542351, 542352, 542353, 542354, 542355, 542356, 542357, 542358, 542359, 542360, 542361, 542362, 542363, 542364, 542365, 542366, 542367, 542368, 542369, 542370, 542371, 542372, 542373, 542374, 542375, 542376, 542377, 542378, 542379, 542380, 542381, 542382, 542383, 542384, 542385, 542386, 542387, 542388, 542389, 542390, 593133, 593134, 593135, 593136, 593137, 593138, 593139, 593140, 593141, 593142, 593143, 593144, 593145, 593146, 593147, 593148, 593149, 593150, 593151, 593152, 593153, 593154, 634566, 634567, 634568, 634569, 634570, 634571, 634572, 634573, 634574, 634575, 634576, 634577, 634578, 634579, 634580, 634581, 634582, 634583, 634584, 634585, 634586, 634587, 634588, 634589, 634590, 634591, 634592, 634593, 634594, 634595, 634596, 634597, 634598, 634599, 634600, 634601, 634602, 634603, 634604, 634605, 634606, 634607, 634608, 634609, 634610, 634611, 634612, 634613, 634614, 634615, 634616, 634617, 634618, 634619, 634620, 650795, 650796, 650797, 650798, 650799, 650800, 650801, 650802, 650803, 650804, 650805, 650806, 650807, 650808, 650809, 650810, 650811, 650812, 650813, 650814, 650815, 650816, 650817, 650818, 650819, 650820, 650821, 650822, 650823, 650824, 650825, 650826, 650827, 650828, 650829, 650830, 650831, 650832, 650833, 650834, 650835, 650836, 650837, 674243, 674244, 674245, 674246, 674247, 674248, 674249, 674250, 674251, 674252, 674253, 674254, 674255, 674256, 674257, 674258, 674259, 674260, 674261, 674262, 674263, 674264, 674265, 674266, 674267, 674268, 674269, 674270, 674271, 674272, 674273, 674274, 674275, 674276, 674277, 674278, 674279, 674280, 674281, 674282, 674283, 674284, 674285, 674286, 674287, 674288, 674289, 674290, 674291, 674292, 674293, 674294, 674295, 705776, 705777, 705778, 705779, 705780, 705781, 705782, 705783, 705784, 705785, 705786, 705787, 705788, 705789, 705790, 705791, 705792, 705793, 705794, 705795, 705796, 705797, 705798, 705799, 705800, 705801, 705802, 705803, 705804, 705805, 705806, 705807, 705808, 705809, 705810, 705811, 734576, 734577, 734578, 734579, 734580, 734581, 734582, 734583, 734584, 734585, 734586, 734587, 734588, 734589, 734590, 734591, 734592, 734593, 734594, 734595, 734596, 734597, 734598, 734599, 734600, 734601, 734602, 734603, 734604, 734605, 734606, 734607, 734608, 734609, 734610, 734611, 734612, 734613, 734614, 734615, 734616, 734617, 734618, 734619, 734620, 734621, 734622, 734623, 734624, 734625, 845868, 845869, 845870, 845871, 845872, 845873, 845874, 845875, 845876, 845877, 845878, 845879, 845880, 845881, 845882, 845883, 845884, 845885, 845886, 845887, 845888, 845889, 845890, 845891, 845892, 845893, 845894, 845895, 845896, 845897, 845898, 845899, 845900, 845901, 845902, 845903, 845904, 845905, 845906, 845907, 845908, 845909, 845910, 845911, 845912, 845913, 845914, 845915, 845916, 845917, 845918, 845919, 845920, 845921, 845922, 845923, 845924, 845925, 845926, 896588, 896589, 896590, 896591, 896592, 896593, 896594, 896595, 896596, 896597, 896598, 896599, 896600, 896601, 896602, 896603, 896604, 896605, 896606, 896607, 896608, 896609, 896610, 896611, 896612, 896613, 896614, 896615, 896616, 896617, 896618, 896619, 896620, 896621, 896622, 896623, 896624, 896625, 956476, 956477, 956478, 956479, 956480, 956481, 956482, 956483, 956484, 956485, 956486, 956487, 956488, 956489, 956490, 956491, 956492, 956493, 956494, 956495, 956496, 956497, 956498, 956499, 956500, 987198, 987199, 987200, 987201, 987202, 987203, 987204, 987205, 987206, 987207, 987208, 987209, 987210, 987211, 987212, 987213, 987214, 987215, 987216, 987217, 987218, 987219, 987220, 987221, 987222, 987223, 987224, 987225, 987226, 987227, 987228, 987229, 987230, 987231, 987232, 987233, 987234, 987235, 987236, 987237, 987238, 987239, 996686, 996687, 996688, 996689, 996690, 996691, 996692, 996693, 996694, 996695, 996696, 996697, 996698, 996699, 996700, 996701, 996702, 996703, 996704, 996705, 996706, 996707, 996708, 996709, 996710, 996711, 996712, 996713, 996714, 996715, 996716, 996717, 996718, 996719, 996720, 996721, 996722, 996723, 996724, 996725, 996726, 996727, 996728, 996729, 1032173, 1032174, 1032175, 1032176, 1032177, 1032178, 1032179, 1032180, 1032181, 1032182, 1032183, 1032184, 1032185, 1032186, 1032187, 1032188, 1032189, 1032190, 1032191, 1032192, 1032193, 1032194, 1032195, 1032196, 1032197, 1032198, 1032199, 1032200, 1032201, 1032202, 1032203, 1032204, 1032205, 1032206, 1032207, 1032208, 1055589, 1055590, 1055591, 1055592, 1055593, 1055594, 1055595, 1055596, 1055597, 1055598, 1055599, 1055600, 1055601, 1055602, 1055603, 1055604, 1055605, 1055606, 1055607, 1055608, 1055609, 1055610, 1055611, 1055612, 1055613, 1055614, 1055615, 1055616, 1055617, 1055618, 1055619, 1055620, 1055621, 1055622, 1055623, 1055624, 1055625, 1055626, 1055627, 1055628, 1055629, 1055630, 1055631, 1055632, 1055633, 1057233, 1057234, 1057235, 1057236, 1057237, 1057238, 1057239, 1057240, 1057241, 1057242, 1057243, 1057244, 1057245, 1057246, 1057247, 1057248, 1057249, 1057250, 1057251, 1057252, 1057253, 1057254, 1057255, 1057256, 1057257, 1057258, 1057259, 1057260, 1057261, 1057262, 1057263, 1057264, 1057265, 1057266, 1057267, 1057268, 1057269, 1057270, 1057271, 1057272, 1057273, 1057274, 1057275, 1057276, 1057277, 1057278, 1062778, 1062779, 1062780, 1062781, 1062782, 1062783, 1062784, 1062785, 1062786, 1062787, 1062788, 1062789, 1062790, 1062791, 1062792, 1062793, 1062794, 1062795, 1062796, 1062797, 1062798, 1062799, 1062800, 1062801, 1062802, 1062803, 1062804, 1062805, 1062806, 1062807, 1062808, 1062809, 1062810, 1062811, 1062812, 1062813, 1062814, 1062815, 1062816, 1062817, 1062818, 1062819, 1062820, 1062821, 1062822, 1062823, 1062824, 1062825, 1099353, 1099354, 1099355, 1099356, 1099357, 1099358, 1099359, 1099360, 1099361, 1099362, 1099363, 1099364, 1099365, 1099366, 1099367, 1099368, 1099369, 1099370, 1099371, 1099372, 1099373, 1099374, 1099375, 1099376, 1099377, 1099378, 1099379, 1099380, 1099381, 1099382, 1099383, 1099384, 1099385, 1099386, 1099387, 1099388, 1099389, 1129395, 1129396, 1129397, 1129398, 1129399, 1129400, 1129401, 1129402, 1129403, 1129404, 1129405, 1129406, 1129407, 1129408, 1129409, 1129410, 1129411, 1129412, 1129413, 1129414, 1129415, 1129416, 1129417, 1129418, 1129419, 1129420, 1129421, 1129422, 1129423, 1129424, 1129425, 1129426, 1129427, 1129428, 1129429, 1129430, 1129431, 1129432, 1129433, 1129434, 1129435, 1129436, 1129437, 1129438, 1129439, 1129440, 1129441, 1129442, 1129443, 1129444, 1129445, 1129446, 1129447, 1129448, 1129449, 1129450, 1129451, 1129452, 1233759, 1233760, 1233761, 1233762, 1233763, 1233764, 1233765, 1233766, 1233767, 1233768, 1233769, 1233770, 1233771, 1233772, 1245948, 1245949, 1245950, 1245951, 1245952, 1245953, 1245954, 1245955, 1245956, 1245957, 1245958, 1245959, 1245960, 1245961, 1245962, 1245963, 1245964, 1245965, 1245966, 1245967, 1245968, 1245969, 1245970, 1245971, 1245972, 1245973, 1245974, 1245975, 1245976, 1245977, 1245978, 1245979, 1245980, 1245981, 1245982, 1245983, 1245984, 1245985, 1245986, 1245987, 1245988, 1245989, 1245990, 1245991, 1245992, 1249223, 1249224, 1249225, 1249226, 1249227, 1249228, 1249229, 1249230, 1249231, 1249232, 1249233, 1249234, 1249235, 1249236, 1249237, 1249238, 1249239, 1249240, 1249241, 1249242, 1249243, 1249244, 1249245, 1249246, 1249247, 1249248, 1249249, 1249250, 1249251, 1249252, 1249253, 1249254, 1249255, 1249256, 1249257, 1249258, 1249259, 1249260, 1249261, 1249262, 1249263, 1249264, 1249265, 1268074, 1268075, 1268076, 1268077, 1268078, 1268079, 1268080, 1268081, 1268082, 1268083, 1268084, 1268085, 1268086, 1268087, 1268088, 1268089, 1268090, 1268091, 1268092, 1268093, 1268094, 1268095, 1268096, 1286072, 1286073, 1286074, 1286075, 1286076, 1286077, 1286078, 1286079, 1286080, 1286081, 1286082, 1286083, 1286084, 1286085, 1286086, 1286087, 1286088, 1286089, 1286090, 1286091, 1286092, 1286093, 1286094, 1286095, 1286096, 1286097, 1286098, 1286099, 1286100, 1286101, 1286102, 1286103, 1286104, 1286105, 1286106, 1286107, 1286108, 1286109, 1286110, 1286111, 1286112, 1286113, 1286114, 1286115, 1286116, 1286117, 1286118, 1286119, 1286120, 1286121, 1286122, 1286123, 1323270, 1323271, 1323272, 1323273, 1323274, 1323275, 1323276, 1323277, 1323278, 1323279, 1323280, 1323281, 1324624, 1324625, 1324626, 1324627, 1324628, 1324629, 1324630, 1324631, 1324632, 1324633, 1324634, 1324635, 1324636, 1324637, 1394577, 1394578, 1394579, 1394580, 1394581, 1394582, 1394583, 1394584, 1394585, 1394586, 1394587, 1394588, 1394589, 1394590, 1394591, 1394592, 1394593, 1394594, 1394595, 1394596, 1394597, 1394598, 1394599, 1394600, 1394601, 1394602, 1394603, 1394604, 1394605, 1394606, 1394607, 1419176, 1419177, 1419178, 1419179, 1419180, 1419181, 1419182, 1419183, 1419184, 1419185, 1419186, 1419187, 1419188, 1419189, 1419190, 1535943, 1535944, 1535945, 1535946, 1535947, 1535948, 1535949, 1535950, 1535951, 1535952, 1535953, 1535954, 1535955, 1535956, 1535957, 1535958, 1535959, 1535960, 1535961, 1535962, 1535963, 1535964, 1539355, 1539356, 1539357, 1539358, 1539359, 1539360, 1539361, 1539362, 1539363, 1539364, 1539365, 1539366, 1539367, 1539368, 1539369, 1539370, 1539371, 1539372, 1539373, 1539374, 1539375, 1539376, 1539377, 1539378, 1539379, 1539380, 1539381, 1539382, 1539383, 1539384, 1539385, 1539386, 1548227, 1548228, 1548229, 1548230, 1548231, 1548232, 1548233, 1548234, 1548235, 1548236, 1548237, 1548238, 1548239, 1548240, 1548241, 1548242, 1548243, 1548244, 1548245, 1548246, 1548247, 1548248, 1548249, 1548250, 1548251, 1548252, 1548253, 1548254, 1548255, 1548256, 1548257, 1548258, 1548259, 1548260, 1548261, 1548262, 1548263, 1548264, 1548265, 1548266, 1548267, 1548268, 1548269, 1548270, 1548271, 1548272, 1548273, 1548274, 1548275, 1548276, 1548277, 1548278, 1548279, 1548280, 1548281, 1548282, 1548283, 1548284, 1556429, 1556430, 1556431, 1556432, 1556433, 1556434, 1556435, 1556436, 1556437, 1556438, 1556439, 1556440, 1556441, 1556442, 1556443, 1556444, 1556445, 1603689, 1603690, 1603691, 1603692, 1603693, 1603694, 1603695, 1603696, 1603697, 1603698, 1603699, 1603700, 1603701, 1603702, 1603703, 1603704, 1603705, 1603706, 1603707, 1603708, 1603709, 1603710]\n"
     ]
    }
   ],
   "source": [
    "Global_intensity_Null=df[df[\"Global_intensity\"].isnull()].index.tolist()\n",
    "print(Global_intensity_Null)"
   ]
  },
  {
   "cell_type": "code",
   "execution_count": 38,
   "metadata": {},
   "outputs": [
    {
     "name": "stdout",
     "output_type": "stream",
     "text": [
      "2.8\n"
     ]
    }
   ],
   "source": [
    "Global_intensityMedian=df['Global_intensity'].median()\n",
    "print(Global_intensityMedian)"
   ]
  },
  {
   "cell_type": "code",
   "execution_count": 39,
   "metadata": {},
   "outputs": [],
   "source": [
    "df['Global_intensity'].iloc[Global_intensity_Null]=Global_intensityMedian"
   ]
  },
  {
   "cell_type": "code",
   "execution_count": 40,
   "metadata": {},
   "outputs": [
    {
     "name": "stdout",
     "output_type": "stream",
     "text": [
      "2.8\n"
     ]
    }
   ],
   "source": [
    "Global_intensityMedian=df['Global_intensity'].median()\n",
    "print(Global_intensityMedian)"
   ]
  },
  {
   "cell_type": "code",
   "execution_count": 41,
   "metadata": {},
   "outputs": [
    {
     "name": "stdout",
     "output_type": "stream",
     "text": [
      "0.0     1692593\n",
      "1.0       77792\n",
      "2.0       17553\n",
      "38.0      15273\n",
      "37.0      13858\n",
      "         ...   \n",
      "82.0          3\n",
      "87.0          3\n",
      "88.0          3\n",
      "84.0          2\n",
      "86.0          2\n",
      "Name: Sub_metering_1, Length: 89, dtype: int64\n"
     ]
    }
   ],
   "source": [
    "print(df['Sub_metering_1'].value_counts(dropna=False))"
   ]
  },
  {
   "cell_type": "code",
   "execution_count": 42,
   "metadata": {},
   "outputs": [
    {
     "data": {
      "image/png": "[encoded data removed]",
      "text/plain": [
       "<Figure size 432x288 with 1 Axes>"
      ]
     },
     "metadata": {
      "needs_background": "light"
     },
     "output_type": "display_data"
    }
   ],
   "source": [
    "sns.countplot(x=\"Sub_metering_1\",data=df)\n",
    "plt.show()"
   ]
  },
  {
   "cell_type": "code",
   "execution_count": 43,
   "metadata": {},
   "outputs": [
    {
     "name": "stdout",
     "output_type": "stream",
     "text": [
      "[6947, 6948, 6949, 6950, 6951, 6952, 6953, 6954, 6955, 6956, 6957, 6958, 6959, 6960, 6961, 6962, 6963, 6964, 6965, 6966, 6967, 6968, 6969, 6970, 6971, 6972, 6973, 6974, 6975, 6976, 6977, 6978, 6979, 6980, 6981, 6982, 6983, 6984, 6985, 20724, 20725, 20726, 20727, 20728, 20729, 20730, 20731, 20732, 20733, 20734, 20735, 20736, 20737, 20738, 20739, 20740, 20741, 20742, 20743, 20744, 20745, 20746, 20747, 20748, 20749, 20750, 20751, 20752, 20753, 20754, 20755, 20756, 20757, 20758, 20759, 20760, 20761, 20762, 20763, 20764, 20765, 25225, 25226, 25227, 25228, 25229, 25230, 25231, 25232, 25233, 25234, 25235, 25236, 25237, 25238, 25239, 25240, 25241, 25242, 25243, 25244, 25245, 25246, 25247, 25248, 25249, 25250, 25251, 38261, 38262, 38263, 38264, 38265, 38266, 38267, 38268, 38269, 38270, 38271, 38272, 38273, 38274, 38275, 44950, 44951, 44952, 44953, 44954, 44955, 44956, 44957, 44958, 44959, 44960, 44961, 44962, 44963, 44964, 44965, 44966, 44967, 44968, 44969, 44970, 44971, 44972, 44973, 44974, 44975, 44976, 44977, 44978, 44979, 44980, 44981, 44982, 44983, 44984, 44985, 44986, 44987, 44988, 44989, 44990, 44991, 44992, 44993, 44994, 44995, 44996, 44997, 44998, 44999, 45000, 45001, 45002, 45003, 45004, 45005, 45006, 146506, 146507, 146508, 146509, 146510, 146511, 146512, 146513, 146514, 146515, 146516, 146517, 146518, 146519, 146520, 146521, 146522, 146523, 146524, 146525, 146526, 146527, 146528, 146529, 146530, 146531, 146532, 146533, 169522, 169523, 169524, 169525, 169526, 169527, 169528, 169529, 169530, 169531, 169532, 169533, 169534, 396660, 396661, 396662, 396663, 396664, 396665, 396666, 396667, 396668, 396669, 396670, 396671, 396672, 396673, 396674, 396675, 396676, 396677, 396678, 396679, 396680, 396681, 396682, 396683, 396684, 396685, 396686, 396687, 396688, 396689, 396690, 396691, 396692, 396693, 396694, 396695, 396696, 396697, 396698, 396699, 396700, 481107, 481108, 481109, 481110, 481111, 481112, 481113, 481114, 481115, 481116, 481117, 481118, 481119, 481120, 481121, 481122, 481123, 481124, 505351, 505352, 505353, 505354, 505355, 505356, 505357, 505358, 505359, 505360, 505361, 505362, 505363, 505364, 505365, 505366, 505367, 505368, 505369, 505370, 505371, 505372, 505373, 505374, 505375, 505376, 505377, 505378, 505379, 505380, 505381, 505382, 505383, 514581, 514582, 514583, 514584, 514585, 514586, 514587, 514588, 514589, 514590, 514591, 514592, 514593, 514594, 514595, 514596, 514597, 514598, 514599, 514600, 514601, 514602, 514603, 514604, 514605, 514606, 514607, 514608, 514609, 514610, 514611, 514612, 514613, 514614, 514615, 514616, 514617, 514618, 514619, 514620, 514621, 514622, 514623, 514624, 514625, 514626, 514627, 514628, 514629, 514630, 514631, 514632, 514633, 514634, 514635, 514636, 514637, 522568, 522569, 522570, 522571, 522572, 522573, 522574, 522575, 522576, 522577, 522578, 522579, 522580, 522581, 522582, 522583, 522584, 522585, 522586, 522587, 522588, 522589, 522590, 522591, 522592, 522593, 524089, 524090, 524091, 524092, 524093, 524094, 524095, 524096, 524097, 524098, 524099, 524100, 524101, 524102, 524103, 524104, 524105, 524106, 524107, 524108, 524109, 524110, 524111, 524112, 524113, 524114, 524115, 524116, 524117, 524118, 524119, 524120, 524121, 524122, 524123, 524124, 537892, 537893, 537894, 537895, 537896, 537897, 537898, 537899, 537900, 537901, 537902, 537903, 537904, 537905, 537906, 537907, 537908, 537909, 537910, 537911, 537912, 537913, 537914, 537915, 537916, 537917, 537918, 537919, 537920, 537921, 537922, 537923, 537924, 537925, 537926, 537927, 537928, 537929, 537930, 576924, 576925, 576926, 576927, 576928, 576929, 576930, 576931, 576932, 576933, 576934, 649689, 649690, 649691, 649692, 649693, 649694, 649695, 649696, 649697, 649698, 649699, 649700, 649701, 649702, 649703, 649704, 649705, 649706, 649707, 649708, 649709, 679960, 679961, 679962, 679963, 679964, 679965, 679966, 679967, 679968, 679969, 679970, 679971, 679972, 679973, 679974, 679975, 679976, 679977, 679978, 679979, 679980, 679981, 679982, 679983, 679984, 679985, 679986, 679987, 679988, 679989, 679990, 679991, 679992, 679993, 679994, 904814, 904815, 904816, 904817, 904818, 904819, 904820, 904821, 904822, 904823, 1009449, 1009450, 1009451, 1009452, 1009453, 1009454, 1009455, 1009456, 1009457, 1009458, 1009459, 1009460, 1009461, 1009462, 1009463, 1009464, 1009465, 1009466, 1009467, 1009468, 1009469, 1009470, 1009471, 1009472, 1009473, 1009474, 1009475, 1009476, 1009477, 1009478, 1009479, 1009480, 1009481, 1009482, 1009483, 1009484, 1009485, 1009486, 1009487, 1009488, 1009489, 1009490, 1009491, 1009492, 1009493, 1009494, 1009495, 1009496, 1009497, 1009498, 1054039, 1054040, 1054041, 1054042, 1054043, 1054044, 1054045, 1054046, 1054047, 1054048, 1054049, 1083873, 1083874, 1083875, 1083876, 1083877, 1083878, 1083879, 1083880, 1083881, 1083882, 1083883, 1083884, 1083885, 1083886, 1083887, 1083888, 1083889, 1083890, 1083891, 1083892, 1083893, 1083894, 1083895, 1083896, 1083897, 1083898, 1083899, 1083900, 1083901, 1083902, 1083903, 1083904, 1083905, 1083906, 1083907, 1083908, 1083909, 1083910, 1083911, 1083912, 1083913, 1083914, 1083915, 1083916, 1083917, 1083918, 1091415, 1091416, 1091417, 1091418, 1091419, 1091420, 1091421, 1091422, 1091423, 1091424, 1091425, 1091426, 1091427, 1091428, 1091429, 1091430, 1282559, 1282560, 1282561, 1282562, 1282563, 1282564, 1282565, 1282566, 1282567, 1282568, 1282569, 1282570, 1282571, 1282572, 1282573, 1282574, 1282575, 1282576, 1282577, 1282578, 1282579, 1282580, 1282581, 1282582, 1282583, 1282584, 1282585, 1282586, 1282587, 1282588, 1282589, 1282590, 1282591, 1282592, 1282593, 1282594, 1282595, 1282596, 1282597, 1282598, 1282599, 1282600, 1282601, 1282602, 1282603, 1282604, 1282605, 1282606, 1282607, 1294714, 1294715, 1294716, 1294717, 1294718, 1294719, 1294720, 1294721, 1294722, 1294723, 1294724, 1294725, 1294726, 1294727, 1294728, 1294729, 1294730, 1294731, 1294732, 1294733, 1294734, 1294735, 1294736, 1294737, 1294738, 1294739, 1294740, 1294741, 1294742, 1294743, 1294744, 1294745, 1294746, 1294747, 1294748, 1294749, 1294750, 1294751, 1294752, 1338651, 1338652, 1338653, 1338654, 1338655, 1338656, 1338657, 1338658, 1338659, 1338660, 1338661, 1338662, 1338663, 1338664, 1338665, 1338666, 1338667, 1338668, 1338669, 1338670, 1338671, 1338672, 1338673, 1338674, 1338675, 1338676, 1338677, 1338678, 1338679, 1338680, 1338681, 1338682, 1338683, 1338684, 1338685, 1338686, 1338687, 1338688, 1338689, 1338690, 1338691, 1338692, 1338693, 1338694, 1338695, 1338696, 1338697, 1338698, 1338699, 1338700, 1338701, 1338702, 1338703, 1338704, 1338705, 1338706, 1338707, 1338708, 1342536, 1342537, 1342538, 1342539, 1342540, 1342541, 1342542, 1342543, 1342544, 1342545, 1342546, 1342547, 1342548, 1342549, 1342550, 1342551, 1342552, 1342553, 1342554, 1342555, 1342556, 1342557, 1342558, 1342559, 1342560, 1342561, 1342562, 1342563, 1342564, 1342565, 1342566, 1342567, 1342568, 1342569, 1342570, 1342571, 1342572, 1342573, 1342574, 1342575, 1342576, 1342577, 1342578, 1342579, 1342580, 1342581, 1342582, 1342583, 1342584, 1342585, 1362016, 1362017, 1362018, 1362019, 1362020, 1362021, 1362022, 1362023, 1362024, 1362025, 1362026, 1362027, 1362028, 1362029, 1362030, 1362031, 1362032, 1362033, 1362034, 1362035, 1362036, 1362037, 1362038, 1362039, 1362040, 1362041, 1362042, 1362043, 1362044, 1362045, 1362046, 1362047, 1362048, 1362049, 1362050, 1362051, 1470161, 1470162, 1470163, 1470164, 1470165, 1470166, 1470167, 1470168, 1470169, 1470170, 1470171, 1470172, 1470173, 1470174, 1470175, 1470176, 1470177, 1470178, 1470179, 1470180, 1470181, 1470182, 1470183, 1470184, 1470185, 1470186, 1470187, 1470188, 1470189, 1470190, 1470191, 1470192, 1470193, 1470194, 1470195, 1470196, 1470197, 1470198, 1470199, 1470200, 1470201, 1470202, 1470203, 1470204, 1470205, 1470206, 1470207, 1470208, 1470209, 1470210, 1470211, 1470212, 1485550, 1485551, 1485552, 1485553, 1485554, 1485555, 1485556, 1485557, 1485558, 1485559, 1485560, 1485561, 1485562, 1485563, 1485564, 1485565, 1485566, 1485567, 1485568, 1485569, 1485570, 1485571, 1485572, 1485573, 1485574, 1485575, 1485576, 1485577, 1485578, 1485579, 1485580, 1485581, 1485582, 1485583, 1485584, 1485585, 1485586, 1540004, 1540005, 1540006, 1540007, 1540008, 1540009, 1540010, 1540011, 1540012, 1540013, 1540014, 1540015, 1540016, 1540017, 1540018, 1540019, 1540020, 1540021, 1540022, 1540023, 1540024, 1540025, 1540026, 1540027, 1540028, 1540029, 1540030, 1611115, 1611116, 1611117, 1611118, 1611119, 1611120, 1611121, 1611122, 1611123, 1611124, 1611125, 1611126, 1611127, 1611128, 1611129, 1611130, 1611131, 1611132, 1611133, 1611134, 1611135, 1611136, 1611137, 1611138, 1611139, 1611140, 1611141, 1611142, 1611143, 1611144, 1611145, 1611146, 1611147, 1611148, 1611149, 1611150, 1611151, 1611152, 1611153, 1611154, 1611155, 1611156, 1611157, 1611158, 1611159, 1611160, 1611161, 1611162, 1611163, 1611164, 1611165, 1611166, 1611167, 1611168, 1611169, 1611170, 1619811, 1619812, 1619813, 1619814, 1619815, 1619816, 1619817, 1619818, 1619819, 1619820, 1619821, 1619822, 1619823, 1619824, 1619825, 1619826, 1619827, 1619828, 1619829, 1619830, 1619831, 1619832, 1619833, 1619834, 1619835, 1619836, 1619837, 1619838, 1619839, 1619840, 1619841, 1619842, 1619843, 1619844, 1619845, 1619846, 1619847, 1619848, 1619849, 1619850, 1619851, 1619852, 1619853, 1619854, 1619855, 1619856, 1619857, 1619858, 1619859, 1689539, 1689540, 1689541, 1689542, 1689543, 1689544, 1689545, 1689546, 1689547, 1689548, 1689549, 1689550, 1689551, 1689552, 1689553, 1689554, 1689555, 1689556, 1689557, 1689558, 1689559, 1689560, 1689561, 1689562, 1689563, 1689564, 1757150, 1757151, 1757152, 1757153, 1757154, 1757155, 1757156, 1757157, 1757158, 1757159, 1757160, 1757161, 1757162, 1757163, 1757164, 1757165, 1757166, 1757167, 1757168, 1757169, 1757170, 1757171, 1810241, 1810242, 1810243, 1810244, 1810245, 1810246, 1810247, 1810248, 1810249, 1810250, 1810251, 1810252, 1810253, 1810254, 1810255, 1810256, 1810257, 1810258, 1810259, 1810260, 1810261, 1810262, 1810263, 1810264, 1810265, 1810266, 1810267, 1810268, 1810269, 1810270]\n"
     ]
    }
   ],
   "source": [
    "Sub_metering_1_Null=df[df[\"Sub_metering_1\"].isnull()].index.tolist()\n",
    "print(Sub_metering_1_Null)"
   ]
  },
  {
   "cell_type": "code",
   "execution_count": 44,
   "metadata": {},
   "outputs": [],
   "source": [
    "df['Sub_metering_1'].iloc[Sub_metering_1_Null]=\"0.0\""
   ]
  },
  {
   "cell_type": "code",
   "execution_count": 45,
   "metadata": {},
   "outputs": [
    {
     "name": "stdout",
     "output_type": "stream",
     "text": [
      "[]\n"
     ]
    }
   ],
   "source": [
    "Sub_metering_1_Null=df[df[\"Sub_metering_1\"].isnull()].index.tolist()\n",
    "print(Sub_metering_1_Null)"
   ]
  },
  {
   "cell_type": "code",
   "execution_count": 46,
   "metadata": {},
   "outputs": [
    {
     "name": "stdout",
     "output_type": "stream",
     "text": [
      "0.0     1313608\n",
      "1.0      323854\n",
      "2.0      137634\n",
      "3.0        6821\n",
      "37.0       6416\n",
      "         ...   \n",
      "50.0         30\n",
      "77.0         24\n",
      "79.0          8\n",
      "78.0          3\n",
      "80.0          2\n",
      "Name: Sub_metering_2, Length: 82, dtype: int64\n"
     ]
    }
   ],
   "source": [
    "print(df['Sub_metering_2'].value_counts(dropna=False))"
   ]
  },
  {
   "cell_type": "code",
   "execution_count": 47,
   "metadata": {},
   "outputs": [
    {
     "data": {
      "image/png": "[encoded data removed]",
      "text/plain": [
       "<Figure size 432x288 with 1 Axes>"
      ]
     },
     "metadata": {
      "needs_background": "light"
     },
     "output_type": "display_data"
    }
   ],
   "source": [
    "sns.countplot(x=\"Sub_metering_2\",data=df)\n",
    "plt.show()"
   ]
  },
  {
   "cell_type": "code",
   "execution_count": 48,
   "metadata": {},
   "outputs": [
    {
     "name": "stdout",
     "output_type": "stream",
     "text": [
      "[203049, 203050, 203051, 203052, 203053, 203054, 203055, 203056, 203057, 203058, 203059, 203060, 203061, 203062, 203063, 203064, 203065, 203066, 203067, 203068, 203069, 203070, 203071, 203072, 203073, 203074, 203075, 203076, 203077, 203078, 203079, 203080, 203081, 203082, 203083, 282650, 282651, 282652, 282653, 282654, 282655, 282656, 282657, 282658, 282659, 282660, 282661, 282662, 282663, 282664, 282665, 282666, 282667, 282668, 282669, 282670, 282671, 282672, 282673, 282674, 282675, 297115, 297116, 297117, 297118, 297119, 297120, 297121, 297122, 297123, 297124, 297125, 297126, 297127, 297128, 297129, 297130, 297131, 297132, 297133, 297134, 297135, 297136, 298124, 298125, 298126, 298127, 298128, 298129, 298130, 298131, 298132, 298133, 298134, 298135, 298136, 298137, 298138, 444240, 444241, 444242, 444243, 444244, 444245, 444246, 444247, 444248, 444249, 444250, 444251, 444252, 444253, 444254, 444255, 444256, 444257, 444258, 558285, 558286, 558287, 558288, 558289, 558290, 558291, 558292, 558293, 558294, 558295, 558296, 558297, 558298, 610436, 610437, 610438, 610439, 610440, 610441, 610442, 610443, 610444, 610445, 610446, 610447, 610448, 639531, 639532, 639533, 639534, 639535, 639536, 639537, 639538, 639539, 639540, 639541, 639542, 639543, 639544, 639545, 648651, 648652, 648653, 648654, 648655, 648656, 648657, 648658, 648659, 648660, 648661, 648662, 648663, 648664, 648665, 648666, 648667, 648668, 648669, 648670, 648671, 648672, 648673, 648674, 648675, 648676, 648677, 648678, 648679, 648680, 648681, 648682, 648683, 648684, 648685, 648686, 648687, 648688, 648689, 648690, 648691, 648692, 648693, 648694, 648695, 648696, 648697, 664891, 664892, 664893, 664894, 664895, 664896, 664897, 664898, 664899, 664900, 664901, 664902, 664903, 664904, 664905, 664906, 664907, 664908, 664909, 664910, 664911, 664912, 664913, 664914, 664915, 664916, 664917, 664918, 664919, 664920, 664921, 664922, 664923, 664924, 664925, 664926, 664927, 664928, 664929, 664930, 664931, 664932, 664933, 664934, 664935, 664936, 664937, 664938, 664939, 664940, 664941, 664942, 664943, 831042, 831043, 831044, 831045, 831046, 831047, 831048, 831049, 831050, 831051, 831052, 831053, 831054, 831055, 831056, 831057, 831058, 831059, 831060, 831061, 831062, 834095, 834096, 834097, 834098, 834099, 834100, 834101, 834102, 834103, 834104, 834105, 834106, 834107, 834108, 834109, 834110, 834111, 834112, 834113, 834114, 834115, 834116, 834117, 834118, 834119, 834120, 834121, 834122, 834123, 834124, 834125, 834126, 834127, 834128, 834129, 834130, 834131, 834132, 834133, 838395, 838396, 838397, 838398, 838399, 838400, 838401, 838402, 838403, 838404, 838405, 838406, 838407, 838408, 838409, 838410, 838411, 838412, 838413, 838414, 838415, 838416, 838417, 838418, 838419, 838420, 838421, 838422, 838423, 838424, 845191, 845192, 845193, 845194, 845195, 845196, 845197, 845198, 845199, 845200, 845201, 845202, 845203, 845204, 845205, 845206, 845207, 845208, 845209, 845210, 845211, 845212, 845213, 845214, 845215, 845216, 845217, 845218, 845219, 845220, 845221, 845222, 845223, 845224, 865565, 865566, 865567, 865568, 865569, 865570, 865571, 865572, 865573, 865574, 865575, 865576, 865577, 865578, 865579, 865580, 865581, 865582, 865583, 865584, 865585, 865586, 865587, 865588, 865589, 865590, 865591, 865592, 865593, 865594, 865595, 865596, 865597, 865598, 865599, 869395, 869396, 869397, 869398, 869399, 869400, 869401, 869402, 869403, 869404, 869405, 869406, 869407, 869408, 869409, 869410, 869411, 869412, 869413, 869414, 869415, 869416, 869417, 869418, 869419, 869420, 869421, 869422, 869423, 869424, 869425, 869426, 869427, 869428, 869429, 869430, 869431, 869432, 869433, 869434, 869435, 869436, 869437, 869438, 869439, 869440, 869441, 874742, 874743, 874744, 874745, 874746, 874747, 874748, 874749, 874750, 874751, 874752, 874753, 874754, 874755, 874756, 874757, 874758, 874759, 874760, 874761, 874762, 874763, 874764, 874765, 874766, 874767, 874768, 874769, 874770, 874771, 874772, 874773, 874774, 874775, 912967, 912968, 912969, 912970, 912971, 912972, 912973, 912974, 912975, 912976, 912977, 912978, 912979, 912980, 912981, 912982, 912983, 912984, 912985, 912986, 912987, 912988, 912989, 912990, 912991, 912992, 912993, 912994, 912995, 912996, 912997, 912998, 912999, 913000, 913001, 913002, 913003, 913004, 913005, 913006, 935993, 935994, 935995, 935996, 935997, 935998, 935999, 936000, 936001, 936002, 936003, 936004, 936005, 936006, 936007, 936008, 936009, 936010, 936011, 936012, 936013, 936014, 936015, 936016, 936017, 936018, 936019, 936020, 936021, 936022, 936023, 936024, 936025, 936026, 936027, 936028, 936029, 936030, 936031, 936032, 936033, 936034, 936035, 936036, 936037, 936038, 936039, 972725, 972726, 972727, 972728, 972729, 972730, 972731, 972732, 972733, 972734, 972735, 972736, 972737, 972738, 972739, 972740, 972741, 972742, 972743, 972744, 972745, 972746, 972747, 972748, 972749, 972750, 972751, 972752, 972753, 972754, 972755, 972756, 972757, 972758, 972759, 972760, 972761, 972762, 972763, 972764, 972765, 972766, 972767, 972768, 972769, 972770, 972771, 996100, 996101, 996102, 996103, 996104, 996105, 996106, 996107, 996108, 996109, 996110, 996111, 996112, 996113, 996114, 996115, 996116, 996117, 996118, 996119, 996120, 996121, 996122, 996123, 996124, 996125, 996126, 996127, 996128, 996129, 996130, 1020148, 1020149, 1020150, 1020151, 1020152, 1020153, 1020154, 1020155, 1020156, 1020157, 1020158, 1020159, 1020160, 1020161, 1020162, 1020163, 1020164, 1020165, 1020166, 1020167, 1020168, 1020169, 1020170, 1020171, 1020172, 1020173, 1020174, 1020175, 1020176, 1020177, 1020178, 1020179, 1020180, 1020181, 1020182, 1020183, 1020184, 1020185, 1020186, 1020187, 1020188, 1020189, 1020190, 1020191, 1020192, 1020193, 1020194, 1020195, 1020196, 1020197, 1020198, 1020199, 1020200, 1020201, 1020202, 1020203, 1040282, 1040283, 1040284, 1040285, 1040286, 1040287, 1040288, 1040289, 1040290, 1040291, 1040292, 1040293, 1040294, 1040295, 1040296, 1040297, 1040298, 1040299, 1040300, 1040301, 1040302, 1040303, 1040304, 1040305, 1040306, 1040307, 1040308, 1040309, 1040310, 1040311, 1040312, 1040313, 1040314, 1040315, 1040316, 1040317, 1040318, 1040319, 1040320, 1040321, 1040322, 1040323, 1040324, 1109529, 1109530, 1109531, 1109532, 1109533, 1109534, 1109535, 1109536, 1109537, 1109538, 1109539, 1109540, 1109541, 1109542, 1109543, 1109544, 1109545, 1109546, 1308939, 1308940, 1308941, 1308942, 1308943, 1308944, 1308945, 1308946, 1308947, 1308948, 1308949, 1308950, 1308951, 1308952, 1308953, 1308954, 1308955, 1308956, 1308957, 1308958, 1308959, 1308960, 1308961, 1308962, 1308963, 1308964, 1326859, 1326860, 1326861, 1326862, 1326863, 1326864, 1326865, 1326866, 1326867, 1326868, 1326869, 1326870, 1326871, 1326872, 1326873, 1326874, 1326875, 1326876, 1326877, 1335508, 1335509, 1335510, 1335511, 1335512, 1335513, 1335514, 1335515, 1335516, 1335517, 1335518, 1335519, 1335520, 1335521, 1335522, 1335523, 1335524, 1335525, 1335526, 1335527, 1335528, 1335529, 1335530, 1335531, 1335532, 1335533, 1335534, 1335535, 1335536, 1335537, 1335538, 1335539, 1335540, 1335541, 1434422, 1434423, 1434424, 1434425, 1434426, 1434427, 1434428, 1434429, 1434430, 1434431, 1434432, 1434433, 1434434, 1434435, 1434436, 1434437, 1434438, 1434439, 1434440, 1434441, 1434442, 1434443, 1434444, 1434445, 1434446, 1434447, 1434448, 1434449, 1434450, 1434451, 1434452, 1434453, 1434454, 1434455, 1434456, 1434457, 1434458, 1434459, 1434460, 1434461, 1434462, 1434463, 1434464, 1434465, 1457332, 1457333, 1457334, 1457335, 1457336, 1457337, 1457338, 1457339, 1457340, 1457341, 1457342, 1457343, 1457344, 1457345, 1457346, 1457347, 1457348, 1457349, 1457350, 1457351, 1457352, 1457353, 1457354, 1457355, 1457356, 1534718, 1534719, 1534720, 1534721, 1534722, 1534723, 1534724, 1534725, 1534726, 1534727, 1534728, 1534729, 1534730, 1534731, 1534732, 1534733, 1534734, 1534735, 1534736, 1560454, 1560455, 1560456, 1560457, 1560458, 1560459, 1560460, 1560461, 1560462, 1560463, 1560464, 1560465, 1560466, 1560467, 1560468, 1560469, 1560470, 1560471, 1560472, 1560473, 1560474, 1560475, 1560476, 1560477, 1560478, 1560479, 1560480, 1560481, 1560482, 1560483, 1560484, 1560485, 1560486, 1560487, 1560488, 1560489, 1560490, 1560491, 1560492, 1560493, 1560494, 1560495, 1560496, 1560497, 1560498, 1560499, 1560500, 1560501, 1575184, 1575185, 1575186, 1575187, 1575188, 1575189, 1575190, 1575191, 1575192, 1575193, 1575194, 1575195, 1575196, 1575197, 1575198, 1575199, 1575200, 1575201, 1575202, 1575203, 1575204, 1575205, 1575206, 1575207, 1575208, 1575209, 1575210, 1575211, 1575212, 1575213, 1575214, 1575215, 1575216, 1575217, 1575218, 1575219, 1575220, 1575221, 1575222, 1575223, 1575224, 1575225, 1575226, 1575227, 1575228, 1575229, 1575230, 1575231, 1575232, 1575233, 1575234, 1575235, 1575236, 1575237, 1575238, 1575239, 1575240, 1575241, 1665856, 1665857, 1665858, 1665859, 1665860, 1665861, 1665862, 1665863, 1665864, 1665865, 1665866, 1665867, 1665868, 1665869, 1665870, 1665871, 1665872, 1665873, 1665874, 1665875, 1720597, 1720598, 1720599, 1720600, 1720601, 1720602, 1720603, 1720604, 1720605, 1720606, 1720607, 1720608, 1720609, 1720610, 1720611, 1720612, 1720613, 1720614, 1720615, 1720616, 1720617, 1720618, 1720619, 1720620, 1720621, 1720622, 1720623, 1720624, 1720625, 1720626, 1720627, 1720628, 1720629, 1720630, 1720631, 1720632, 1720633, 1720634, 1720635, 1720636, 1720637, 1786196, 1786197, 1786198, 1786199, 1786200, 1786201, 1786202, 1786203, 1786204, 1786205, 1786206, 1786207, 1786208]\n"
     ]
    }
   ],
   "source": [
    "Sub_metering_2_Null=df[df[\"Sub_metering_2\"].isnull()].index.tolist()\n",
    "print(Sub_metering_2_Null)"
   ]
  },
  {
   "cell_type": "code",
   "execution_count": 49,
   "metadata": {},
   "outputs": [],
   "source": [
    "df['Sub_metering_2'].iloc[Sub_metering_2_Null]=\"0.0\""
   ]
  },
  {
   "cell_type": "code",
   "execution_count": 50,
   "metadata": {},
   "outputs": [
    {
     "name": "stdout",
     "output_type": "stream",
     "text": [
      "[]\n"
     ]
    }
   ],
   "source": [
    "Sub_metering_2_Null=df[df[\"Sub_metering_2\"].isnull()].index.tolist()\n",
    "print(Sub_metering_2_Null)"
   ]
  },
  {
   "cell_type": "code",
   "execution_count": 51,
   "metadata": {},
   "outputs": [
    {
     "name": "stdout",
     "output_type": "stream",
     "text": [
      "0.0     794692\n",
      "1.0     391805\n",
      "18.0    325119\n",
      "17.0    150931\n",
      "19.0    108240\n",
      "16.0     15349\n",
      "12.0     12222\n",
      "11.0      9297\n",
      "29.0      5585\n",
      "20.0      4129\n",
      "28.0      3941\n",
      "13.0      3740\n",
      "10.0      2838\n",
      "30.0      2152\n",
      "9.0       1678\n",
      "6.0       1663\n",
      "2.0       1643\n",
      "7.0       1618\n",
      "3.0       1612\n",
      "4.0       1597\n",
      "8.0       1595\n",
      "5.0       1559\n",
      "27.0      1190\n",
      "26.0       675\n",
      "23.0       626\n",
      "21.0       625\n",
      "25.0       596\n",
      "22.0       594\n",
      "15.0       585\n",
      "24.0       579\n",
      "14.0       474\n",
      "31.0       202\n",
      "NaN        129\n",
      "Name: Sub_metering_3, dtype: int64\n"
     ]
    }
   ],
   "source": [
    "print(df['Sub_metering_3'].value_counts(dropna=False))"
   ]
  },
  {
   "cell_type": "code",
   "execution_count": 52,
   "metadata": {},
   "outputs": [
    {
     "data": {
      "image/png": "[encoded data removed]",
      "text/plain": [
       "<Figure size 432x288 with 1 Axes>"
      ]
     },
     "metadata": {
      "needs_background": "light"
     },
     "output_type": "display_data"
    }
   ],
   "source": [
    "sns.countplot(x=\"Sub_metering_3\",data=df)\n",
    "plt.show()"
   ]
  },
  {
   "cell_type": "code",
   "execution_count": 53,
   "metadata": {},
   "outputs": [
    {
     "name": "stdout",
     "output_type": "stream",
     "text": [
      "[301662, 301663, 301664, 301665, 301666, 301667, 301668, 301669, 301670, 301671, 301672, 359814, 359815, 359816, 359817, 359818, 359819, 359820, 359821, 359822, 359823, 359824, 359825, 359826, 671900, 671901, 671902, 671903, 671904, 671905, 671906, 671907, 671908, 671909, 671910, 671911, 671912, 671913, 671914, 671915, 671916, 671917, 671918, 671919, 671920, 671921, 671922, 671923, 671924, 671925, 671926, 671927, 671928, 671929, 671930, 671931, 671932, 671933, 671934, 671935, 671936, 671937, 671938, 671939, 671940, 671941, 671942, 671943, 671944, 671945, 671946, 671947, 671948, 671949, 671950, 671951, 671952, 671953, 671954, 671955, 671956, 1824557, 1824558, 1824559, 1824560, 1824561, 1824562, 1824563, 1824564, 1824565, 1824566, 1824567, 1824568, 1824569, 1824570, 1824571, 1824572, 1824573, 1824574, 1824575, 1824576, 1824577, 1824578, 1824579, 1824580, 1824581, 1824582, 1824583, 1824584, 1824585, 1824586, 1824587, 1824588, 1824589, 1824590, 1824591, 1824592, 1824593, 1824594, 1824595, 1824596, 1824597, 1824598, 1824599, 1824600, 1824601, 1824602, 1824603, 1824604]\n"
     ]
    }
   ],
   "source": [
    "Sub_metering_3_Null=df[df[\"Sub_metering_3\"].isnull()].index.tolist()\n",
    "print(Sub_metering_3_Null)"
   ]
  },
  {
   "cell_type": "code",
   "execution_count": 54,
   "metadata": {},
   "outputs": [],
   "source": [
    "df['Sub_metering_3'].iloc[Sub_metering_3_Null]=\"0.0\""
   ]
  },
  {
   "cell_type": "code",
   "execution_count": 55,
   "metadata": {},
   "outputs": [
    {
     "name": "stdout",
     "output_type": "stream",
     "text": [
      "[]\n"
     ]
    }
   ],
   "source": [
    "Sub_metering_3_Null=df[df[\"Sub_metering_3\"].isnull()].index.tolist()\n",
    "print(Sub_metering_3_Null)"
   ]
  },
  {
   "cell_type": "code",
   "execution_count": 56,
   "metadata": {},
   "outputs": [
    {
     "data": {
      "text/plain": [
       "Unnamed: 0               0\n",
       "Date                     0\n",
       "Time                     0\n",
       "Global_active_power      0\n",
       "Global_reactive_power    0\n",
       "Voltage                  0\n",
       "Global_intensity         0\n",
       "Sub_metering_1           0\n",
       "Sub_metering_2           0\n",
       "Sub_metering_3           0\n",
       "dtype: int64"
      ]
     },
     "execution_count": 56,
     "metadata": {},
     "output_type": "execute_result"
    }
   ],
   "source": [
    "df.isnull().sum()"
   ]
  },
  {
   "cell_type": "code",
   "execution_count": 57,
   "metadata": {},
   "outputs": [
    {
     "data": {
      "text/html": [
       "<div>\n",
       "<style scoped>\n",
       "    .dataframe tbody tr th:only-of-type {\n",
       "        vertical-align: middle;\n",
       "    }\n",
       "\n",
       "    .dataframe tbody tr th {\n",
       "        vertical-align: top;\n",
       "    }\n",
       "\n",
       "    .dataframe thead th {\n",
       "        text-align: right;\n",
       "    }\n",
       "</style>\n",
       "<table border=\"1\" class=\"dataframe\">\n",
       "  <thead>\n",
       "    <tr style=\"text-align: right;\">\n",
       "      <th></th>\n",
       "      <th>Unnamed: 0</th>\n",
       "      <th>Date</th>\n",
       "      <th>Time</th>\n",
       "      <th>Global_active_power</th>\n",
       "      <th>Global_reactive_power</th>\n",
       "      <th>Voltage</th>\n",
       "      <th>Global_intensity</th>\n",
       "      <th>Sub_metering_1</th>\n",
       "      <th>Sub_metering_2</th>\n",
       "      <th>Sub_metering_3</th>\n",
       "    </tr>\n",
       "  </thead>\n",
       "  <tbody>\n",
       "    <tr>\n",
       "      <td>0</td>\n",
       "      <td>0</td>\n",
       "      <td>16/12/2006</td>\n",
       "      <td>17:24:00</td>\n",
       "      <td>4.216</td>\n",
       "      <td>0.418</td>\n",
       "      <td>234.84</td>\n",
       "      <td>18.4</td>\n",
       "      <td>0</td>\n",
       "      <td>1</td>\n",
       "      <td>17</td>\n",
       "    </tr>\n",
       "    <tr>\n",
       "      <td>1</td>\n",
       "      <td>1</td>\n",
       "      <td>16/12/2006</td>\n",
       "      <td>17:25:00</td>\n",
       "      <td>5.360</td>\n",
       "      <td>0.436</td>\n",
       "      <td>233.63</td>\n",
       "      <td>23.0</td>\n",
       "      <td>0</td>\n",
       "      <td>1</td>\n",
       "      <td>16</td>\n",
       "    </tr>\n",
       "    <tr>\n",
       "      <td>2</td>\n",
       "      <td>2</td>\n",
       "      <td>16/12/2006</td>\n",
       "      <td>17:26:00</td>\n",
       "      <td>5.374</td>\n",
       "      <td>0.498</td>\n",
       "      <td>233.29</td>\n",
       "      <td>23.0</td>\n",
       "      <td>0</td>\n",
       "      <td>2</td>\n",
       "      <td>17</td>\n",
       "    </tr>\n",
       "    <tr>\n",
       "      <td>3</td>\n",
       "      <td>3</td>\n",
       "      <td>16/12/2006</td>\n",
       "      <td>17:27:00</td>\n",
       "      <td>5.388</td>\n",
       "      <td>0.502</td>\n",
       "      <td>233.74</td>\n",
       "      <td>23.0</td>\n",
       "      <td>0</td>\n",
       "      <td>1</td>\n",
       "      <td>17</td>\n",
       "    </tr>\n",
       "    <tr>\n",
       "      <td>4</td>\n",
       "      <td>4</td>\n",
       "      <td>16/12/2006</td>\n",
       "      <td>17:28:00</td>\n",
       "      <td>3.666</td>\n",
       "      <td>0.528</td>\n",
       "      <td>235.68</td>\n",
       "      <td>15.8</td>\n",
       "      <td>0</td>\n",
       "      <td>1</td>\n",
       "      <td>17</td>\n",
       "    </tr>\n",
       "  </tbody>\n",
       "</table>\n",
       "</div>"
      ],
      "text/plain": [
       "   Unnamed: 0        Date      Time  Global_active_power  \\\n",
       "0           0  16/12/2006  17:24:00                4.216   \n",
       "1           1  16/12/2006  17:25:00                5.360   \n",
       "2           2  16/12/2006  17:26:00                5.374   \n",
       "3           3  16/12/2006  17:27:00                5.388   \n",
       "4           4  16/12/2006  17:28:00                3.666   \n",
       "\n",
       "  Global_reactive_power  Voltage  Global_intensity Sub_metering_1  \\\n",
       "0                 0.418   234.84              18.4              0   \n",
       "1                 0.436   233.63              23.0              0   \n",
       "2                 0.498   233.29              23.0              0   \n",
       "3                 0.502   233.74              23.0              0   \n",
       "4                 0.528   235.68              15.8              0   \n",
       "\n",
       "  Sub_metering_2 Sub_metering_3  \n",
       "0              1             17  \n",
       "1              1             16  \n",
       "2              2             17  \n",
       "3              1             17  \n",
       "4              1             17  "
      ]
     },
     "execution_count": 57,
     "metadata": {},
     "output_type": "execute_result"
    }
   ],
   "source": [
    "df.head()"
   ]
  },
  {
   "cell_type": "markdown",
   "metadata": {},
   "source": [
    "# Dropping The Unnecessary Columns"
   ]
  },
  {
   "cell_type": "code",
   "execution_count": 58,
   "metadata": {},
   "outputs": [
    {
     "data": {
      "text/html": [
       "<div>\n",
       "<style scoped>\n",
       "    .dataframe tbody tr th:only-of-type {\n",
       "        vertical-align: middle;\n",
       "    }\n",
       "\n",
       "    .dataframe tbody tr th {\n",
       "        vertical-align: top;\n",
       "    }\n",
       "\n",
       "    .dataframe thead th {\n",
       "        text-align: right;\n",
       "    }\n",
       "</style>\n",
       "<table border=\"1\" class=\"dataframe\">\n",
       "  <thead>\n",
       "    <tr style=\"text-align: right;\">\n",
       "      <th></th>\n",
       "      <th>Global_active_power</th>\n",
       "      <th>Global_reactive_power</th>\n",
       "      <th>Voltage</th>\n",
       "      <th>Global_intensity</th>\n",
       "    </tr>\n",
       "  </thead>\n",
       "  <tbody>\n",
       "    <tr>\n",
       "      <td>0</td>\n",
       "      <td>4.216</td>\n",
       "      <td>0.418</td>\n",
       "      <td>234.84</td>\n",
       "      <td>18.4</td>\n",
       "    </tr>\n",
       "    <tr>\n",
       "      <td>1</td>\n",
       "      <td>5.360</td>\n",
       "      <td>0.436</td>\n",
       "      <td>233.63</td>\n",
       "      <td>23.0</td>\n",
       "    </tr>\n",
       "    <tr>\n",
       "      <td>2</td>\n",
       "      <td>5.374</td>\n",
       "      <td>0.498</td>\n",
       "      <td>233.29</td>\n",
       "      <td>23.0</td>\n",
       "    </tr>\n",
       "    <tr>\n",
       "      <td>3</td>\n",
       "      <td>5.388</td>\n",
       "      <td>0.502</td>\n",
       "      <td>233.74</td>\n",
       "      <td>23.0</td>\n",
       "    </tr>\n",
       "    <tr>\n",
       "      <td>4</td>\n",
       "      <td>3.666</td>\n",
       "      <td>0.528</td>\n",
       "      <td>235.68</td>\n",
       "      <td>15.8</td>\n",
       "    </tr>\n",
       "    <tr>\n",
       "      <td>...</td>\n",
       "      <td>...</td>\n",
       "      <td>...</td>\n",
       "      <td>...</td>\n",
       "      <td>...</td>\n",
       "    </tr>\n",
       "    <tr>\n",
       "      <td>1849275</td>\n",
       "      <td>0.450</td>\n",
       "      <td>0.322</td>\n",
       "      <td>236.90</td>\n",
       "      <td>2.4</td>\n",
       "    </tr>\n",
       "    <tr>\n",
       "      <td>1849276</td>\n",
       "      <td>0.386</td>\n",
       "      <td>0.216</td>\n",
       "      <td>236.69</td>\n",
       "      <td>1.8</td>\n",
       "    </tr>\n",
       "    <tr>\n",
       "      <td>1849277</td>\n",
       "      <td>0.378</td>\n",
       "      <td>0.204</td>\n",
       "      <td>236.54</td>\n",
       "      <td>1.8</td>\n",
       "    </tr>\n",
       "    <tr>\n",
       "      <td>1849278</td>\n",
       "      <td>0.376</td>\n",
       "      <td>0.204</td>\n",
       "      <td>236.15</td>\n",
       "      <td>1.8</td>\n",
       "    </tr>\n",
       "    <tr>\n",
       "      <td>1849279</td>\n",
       "      <td>0.374</td>\n",
       "      <td>0.202</td>\n",
       "      <td>235.70</td>\n",
       "      <td>1.8</td>\n",
       "    </tr>\n",
       "  </tbody>\n",
       "</table>\n",
       "<p>1849280 rows × 4 columns</p>\n",
       "</div>"
      ],
      "text/plain": [
       "         Global_active_power Global_reactive_power  Voltage  Global_intensity\n",
       "0                      4.216                 0.418   234.84              18.4\n",
       "1                      5.360                 0.436   233.63              23.0\n",
       "2                      5.374                 0.498   233.29              23.0\n",
       "3                      5.388                 0.502   233.74              23.0\n",
       "4                      3.666                 0.528   235.68              15.8\n",
       "...                      ...                   ...      ...               ...\n",
       "1849275                0.450                 0.322   236.90               2.4\n",
       "1849276                0.386                 0.216   236.69               1.8\n",
       "1849277                0.378                 0.204   236.54               1.8\n",
       "1849278                0.376                 0.204   236.15               1.8\n",
       "1849279                0.374                 0.202   235.70               1.8\n",
       "\n",
       "[1849280 rows x 4 columns]"
      ]
     },
     "execution_count": 58,
     "metadata": {},
     "output_type": "execute_result"
    }
   ],
   "source": [
    "df=df.drop(['Sub_metering_3','Sub_metering_2','Sub_metering_1','Unnamed: 0','Date','Time'],axis=1)\n",
    "df"
   ]
  },
  {
   "cell_type": "markdown",
   "metadata": {},
   "source": [
    "# Scaling"
   ]
  },
  {
   "cell_type": "code",
   "execution_count": 59,
   "metadata": {},
   "outputs": [],
   "source": [
    "from sklearn.preprocessing import scale\n",
    "colnames=[\"Global_active_power\",\"Global_reactive_power\",\"Voltage\",\"Global_intensity\"]\n",
    "df_scaled=scale(df[colnames])"
   ]
  },
  {
   "cell_type": "code",
   "execution_count": 60,
   "metadata": {},
   "outputs": [
    {
     "name": "stdout",
     "output_type": "stream",
     "text": [
      "         Global_active_power  Global_reactive_power   Voltage  \\\n",
      "0                   2.892773               2.631722 -1.815294   \n",
      "1                   3.957880               2.792062 -2.183784   \n",
      "2                   3.970914               3.344344 -2.287327   \n",
      "3                   3.983949               3.379975 -2.150285   \n",
      "4                   2.380702               3.611577 -1.559482   \n",
      "...                      ...                    ...       ...   \n",
      "1849275            -0.613515               1.776575 -1.187947   \n",
      "1849276            -0.673101               0.832351 -1.251899   \n",
      "1849277            -0.680550               0.725458 -1.297580   \n",
      "1849278            -0.682412               0.725458 -1.416350   \n",
      "1849279            -0.684274               0.707642 -1.553392   \n",
      "\n",
      "         Global_intensity  \n",
      "0                3.033820  \n",
      "1                4.052449  \n",
      "2                4.052449  \n",
      "3                4.052449  \n",
      "4                2.458073  \n",
      "...                   ...  \n",
      "1849275         -0.509239  \n",
      "1849276         -0.642103  \n",
      "1849277         -0.642103  \n",
      "1849278         -0.642103  \n",
      "1849279         -0.642103  \n",
      "\n",
      "[1849280 rows x 4 columns]\n"
     ]
    }
   ],
   "source": [
    "df_scaled=pd.DataFrame(df_scaled,columns=colnames)\n",
    "print(df_scaled)"
   ]
  },
  {
   "cell_type": "code",
   "execution_count": 61,
   "metadata": {},
   "outputs": [
    {
     "data": {
      "text/plain": [
       "<matplotlib.axes._subplots.AxesSubplot at 0x24867085b48>"
      ]
     },
     "execution_count": 61,
     "metadata": {},
     "output_type": "execute_result"
    },
    {
     "data": {
      "image/png": "[encoded data removed]",
      "text/plain": [
       "<Figure size 648x576 with 2 Axes>"
      ]
     },
     "metadata": {
      "needs_background": "light"
     },
     "output_type": "display_data"
    }
   ],
   "source": [
    "corrmat = df_scaled.corr() \n",
    "  \n",
    "f, ax = plt.subplots(figsize =(9, 8)) \n",
    "sns.heatmap(corrmat, ax = ax, cmap =\"YlGnBu\", linewidths = 0.1) "
   ]
  },
  {
   "cell_type": "code",
   "execution_count": 62,
   "metadata": {},
   "outputs": [
    {
     "name": "stdout",
     "output_type": "stream",
     "text": [
      "0\n"
     ]
    }
   ],
   "source": [
    "count=0\n",
    "for item in df_scaled['Global_intensity']:\n",
    "    if item > 15:\n",
    "        count=count+1\n",
    "        \n",
    "print(count) "
   ]
  },
  {
   "cell_type": "markdown",
   "metadata": {},
   "source": [
    "# Dropping NA "
   ]
  },
  {
   "cell_type": "code",
   "execution_count": 63,
   "metadata": {},
   "outputs": [
    {
     "data": {
      "text/html": [
       "<div>\n",
       "<style scoped>\n",
       "    .dataframe tbody tr th:only-of-type {\n",
       "        vertical-align: middle;\n",
       "    }\n",
       "\n",
       "    .dataframe tbody tr th {\n",
       "        vertical-align: top;\n",
       "    }\n",
       "\n",
       "    .dataframe thead th {\n",
       "        text-align: right;\n",
       "    }\n",
       "</style>\n",
       "<table border=\"1\" class=\"dataframe\">\n",
       "  <thead>\n",
       "    <tr style=\"text-align: right;\">\n",
       "      <th></th>\n",
       "      <th>Global_active_power</th>\n",
       "      <th>Global_reactive_power</th>\n",
       "      <th>Voltage</th>\n",
       "      <th>Global_intensity</th>\n",
       "    </tr>\n",
       "  </thead>\n",
       "  <tbody>\n",
       "    <tr>\n",
       "      <td>0</td>\n",
       "      <td>2.892773</td>\n",
       "      <td>2.631722</td>\n",
       "      <td>-1.815294</td>\n",
       "      <td>3.033820</td>\n",
       "    </tr>\n",
       "    <tr>\n",
       "      <td>1</td>\n",
       "      <td>3.957880</td>\n",
       "      <td>2.792062</td>\n",
       "      <td>-2.183784</td>\n",
       "      <td>4.052449</td>\n",
       "    </tr>\n",
       "    <tr>\n",
       "      <td>2</td>\n",
       "      <td>3.970914</td>\n",
       "      <td>3.344344</td>\n",
       "      <td>-2.287327</td>\n",
       "      <td>4.052449</td>\n",
       "    </tr>\n",
       "    <tr>\n",
       "      <td>3</td>\n",
       "      <td>3.983949</td>\n",
       "      <td>3.379975</td>\n",
       "      <td>-2.150285</td>\n",
       "      <td>4.052449</td>\n",
       "    </tr>\n",
       "    <tr>\n",
       "      <td>4</td>\n",
       "      <td>2.380702</td>\n",
       "      <td>3.611577</td>\n",
       "      <td>-1.559482</td>\n",
       "      <td>2.458073</td>\n",
       "    </tr>\n",
       "    <tr>\n",
       "      <td>...</td>\n",
       "      <td>...</td>\n",
       "      <td>...</td>\n",
       "      <td>...</td>\n",
       "      <td>...</td>\n",
       "    </tr>\n",
       "    <tr>\n",
       "      <td>1849275</td>\n",
       "      <td>-0.613515</td>\n",
       "      <td>1.776575</td>\n",
       "      <td>-1.187947</td>\n",
       "      <td>-0.509239</td>\n",
       "    </tr>\n",
       "    <tr>\n",
       "      <td>1849276</td>\n",
       "      <td>-0.673101</td>\n",
       "      <td>0.832351</td>\n",
       "      <td>-1.251899</td>\n",
       "      <td>-0.642103</td>\n",
       "    </tr>\n",
       "    <tr>\n",
       "      <td>1849277</td>\n",
       "      <td>-0.680550</td>\n",
       "      <td>0.725458</td>\n",
       "      <td>-1.297580</td>\n",
       "      <td>-0.642103</td>\n",
       "    </tr>\n",
       "    <tr>\n",
       "      <td>1849278</td>\n",
       "      <td>-0.682412</td>\n",
       "      <td>0.725458</td>\n",
       "      <td>-1.416350</td>\n",
       "      <td>-0.642103</td>\n",
       "    </tr>\n",
       "    <tr>\n",
       "      <td>1849279</td>\n",
       "      <td>-0.684274</td>\n",
       "      <td>0.707642</td>\n",
       "      <td>-1.553392</td>\n",
       "      <td>-0.642103</td>\n",
       "    </tr>\n",
       "  </tbody>\n",
       "</table>\n",
       "<p>1849280 rows × 4 columns</p>\n",
       "</div>"
      ],
      "text/plain": [
       "         Global_active_power  Global_reactive_power   Voltage  \\\n",
       "0                   2.892773               2.631722 -1.815294   \n",
       "1                   3.957880               2.792062 -2.183784   \n",
       "2                   3.970914               3.344344 -2.287327   \n",
       "3                   3.983949               3.379975 -2.150285   \n",
       "4                   2.380702               3.611577 -1.559482   \n",
       "...                      ...                    ...       ...   \n",
       "1849275            -0.613515               1.776575 -1.187947   \n",
       "1849276            -0.673101               0.832351 -1.251899   \n",
       "1849277            -0.680550               0.725458 -1.297580   \n",
       "1849278            -0.682412               0.725458 -1.416350   \n",
       "1849279            -0.684274               0.707642 -1.553392   \n",
       "\n",
       "         Global_intensity  \n",
       "0                3.033820  \n",
       "1                4.052449  \n",
       "2                4.052449  \n",
       "3                4.052449  \n",
       "4                2.458073  \n",
       "...                   ...  \n",
       "1849275         -0.509239  \n",
       "1849276         -0.642103  \n",
       "1849277         -0.642103  \n",
       "1849278         -0.642103  \n",
       "1849279         -0.642103  \n",
       "\n",
       "[1849280 rows x 4 columns]"
      ]
     },
     "execution_count": 63,
     "metadata": {},
     "output_type": "execute_result"
    }
   ],
   "source": [
    "df_scaled.dropna()"
   ]
  },
  {
   "cell_type": "code",
   "execution_count": 64,
   "metadata": {},
   "outputs": [
    {
     "data": {
      "text/plain": [
       "(1849280, 4)"
      ]
     },
     "execution_count": 64,
     "metadata": {},
     "output_type": "execute_result"
    }
   ],
   "source": [
    "df_scaled.shape"
   ]
  },
  {
   "cell_type": "code",
   "execution_count": 65,
   "metadata": {},
   "outputs": [],
   "source": [
    "df_scaled[:] = np.nan_to_num(df)"
   ]
  },
  {
   "cell_type": "code",
   "execution_count": 66,
   "metadata": {},
   "outputs": [],
   "source": [
    "X=df[[\"Global_active_power\",\"Global_reactive_power\",\"Voltage\"]]\n",
    "y=df['Global_intensity']"
   ]
  },
  {
   "cell_type": "code",
   "execution_count": 67,
   "metadata": {},
   "outputs": [
    {
     "data": {
      "text/plain": [
       "0"
      ]
     },
     "execution_count": 67,
     "metadata": {},
     "output_type": "execute_result"
    }
   ],
   "source": [
    "np.isnan(y).sum()"
   ]
  },
  {
   "cell_type": "markdown",
   "metadata": {},
   "source": [
    "# Developing The Machine Learning Model\n",
    "\n",
    "## Using Linear Regression"
   ]
  },
  {
   "cell_type": "code",
   "execution_count": 68,
   "metadata": {},
   "outputs": [],
   "source": [
    "import sklearn\n",
    "from sklearn.model_selection import train_test_split\n",
    "from sklearn.linear_model import LinearRegression"
   ]
  },
  {
   "cell_type": "code",
   "execution_count": 69,
   "metadata": {},
   "outputs": [],
   "source": [
    "X_train, X_test, y_train, y_test=train_test_split(X,y,test_size=0.30, random_state=26)"
   ]
  },
  {
   "cell_type": "code",
   "execution_count": 70,
   "metadata": {
    "scrolled": true
   },
   "outputs": [
    {
     "data": {
      "text/plain": [
       "LinearRegression(copy_X=True, fit_intercept=True, n_jobs=None, normalize=False)"
      ]
     },
     "execution_count": 70,
     "metadata": {},
     "output_type": "execute_result"
    }
   ],
   "source": [
    "lr_mod=LinearRegression()\n",
    "lr_mod.fit(X_train,y_train)"
   ]
  },
  {
   "cell_type": "code",
   "execution_count": 71,
   "metadata": {},
   "outputs": [
    {
     "data": {
      "text/plain": [
       "array([1.37315768, 1.02448957, 0.7039942 , ..., 7.06456041, 0.97948331,\n",
       "       1.33988658])"
      ]
     },
     "execution_count": 71,
     "metadata": {},
     "output_type": "execute_result"
    }
   ],
   "source": [
    "y_pred=lr_mod.predict(X_test)\n",
    "y_pred"
   ]
  },
  {
   "cell_type": "code",
   "execution_count": 72,
   "metadata": {},
   "outputs": [],
   "source": [
    "cutoff = 0.7                              # decide on a cutoff limit\n",
    "y_pred_classes = np.zeros_like(y_pred)    # initialise a matrix full with zeros\n",
    "y_pred_classes[y_pred > cutoff] = 1  \n",
    "\n",
    "\n",
    "y_test_classes = np.zeros_like(y_pred)\n",
    "y_test_classes[y_test > cutoff] = 1"
   ]
  },
  {
   "cell_type": "code",
   "execution_count": 73,
   "metadata": {},
   "outputs": [
    {
     "name": "stdout",
     "output_type": "stream",
     "text": [
      "[[ 18329    410]\n",
      " [  1596 534449]]\n",
      "              precision    recall  f1-score   support\n",
      "\n",
      "         0.0       0.92      0.98      0.95     18739\n",
      "         1.0       1.00      1.00      1.00    536045\n",
      "\n",
      "    accuracy                           1.00    554784\n",
      "   macro avg       0.96      0.99      0.97    554784\n",
      "weighted avg       1.00      1.00      1.00    554784\n",
      "\n"
     ]
    }
   ],
   "source": [
    "from sklearn.metrics import classification_report,confusion_matrix\n",
    "print(confusion_matrix(y_test_classes, y_pred_classes))\n",
    "print(classification_report(y_test_classes, y_pred_classes))"
   ]
  },
  {
   "cell_type": "markdown",
   "metadata": {},
   "source": [
    "### Accuracy"
   ]
  },
  {
   "cell_type": "code",
   "execution_count": 74,
   "metadata": {},
   "outputs": [
    {
     "name": "stdout",
     "output_type": "stream",
     "text": [
      "Accuracy: 0.9963841783468882\n"
     ]
    },
    {
     "data": {
      "text/plain": [
       "0.995989674822116"
      ]
     },
     "execution_count": 74,
     "metadata": {},
     "output_type": "execute_result"
    }
   ],
   "source": [
    "from sklearn import metrics\n",
    "print(\"Accuracy:\",metrics.accuracy_score(y_test_classes,y_pred_classes))\n",
    "lr_mod.score(X_train,y_train)"
   ]
  },
  {
   "cell_type": "markdown",
   "metadata": {},
   "source": [
    "### Mean Squared Error"
   ]
  },
  {
   "cell_type": "code",
   "execution_count": 75,
   "metadata": {},
   "outputs": [
    {
     "name": "stdout",
     "output_type": "stream",
     "text": [
      "0.27160121962953143\n"
     ]
    }
   ],
   "source": [
    "from sklearn.metrics import mean_squared_error\n",
    "from math import sqrt\n",
    "\n",
    "lr_rms=sqrt(mean_squared_error(y_test,y_pred))\n",
    "print(lr_rms)"
   ]
  },
  {
   "cell_type": "markdown",
   "metadata": {},
   "source": [
    "## Using DecisionTree Regressor"
   ]
  },
  {
   "cell_type": "code",
   "execution_count": 76,
   "metadata": {},
   "outputs": [
    {
     "name": "stdout",
     "output_type": "stream",
     "text": [
      "0.9999204321899843\n"
     ]
    }
   ],
   "source": [
    "from sklearn.tree import DecisionTreeRegressor\n",
    "\n",
    "regressor=DecisionTreeRegressor()  #by default it take 'gini' index value\n",
    "regressor.fit(X_train,y_train)\n",
    "y_pred=regressor.predict(X_test)\n",
    "print(regressor.score(X_train,y_train))"
   ]
  },
  {
   "cell_type": "code",
   "execution_count": 77,
   "metadata": {},
   "outputs": [
    {
     "name": "stdout",
     "output_type": "stream",
     "text": [
      "[[ 18329    410]\n",
      " [  1596 534449]]\n",
      "              precision    recall  f1-score   support\n",
      "\n",
      "         0.0       0.92      0.98      0.95     18739\n",
      "         1.0       1.00      1.00      1.00    536045\n",
      "\n",
      "    accuracy                           1.00    554784\n",
      "   macro avg       0.96      0.99      0.97    554784\n",
      "weighted avg       1.00      1.00      1.00    554784\n",
      "\n"
     ]
    }
   ],
   "source": [
    "from sklearn.metrics import classification_report,confusion_matrix\n",
    "print(confusion_matrix(y_test_classes, y_pred_classes))\n",
    "print(classification_report(y_test_classes, y_pred_classes))"
   ]
  },
  {
   "cell_type": "markdown",
   "metadata": {},
   "source": [
    "### Accuracy"
   ]
  },
  {
   "cell_type": "code",
   "execution_count": 78,
   "metadata": {},
   "outputs": [
    {
     "name": "stdout",
     "output_type": "stream",
     "text": [
      "DT_Accuracy: 0.9963841783468882\n"
     ]
    }
   ],
   "source": [
    "print(\"DT_Accuracy:\",metrics.accuracy_score(y_test_classes,y_pred_classes))"
   ]
  },
  {
   "cell_type": "markdown",
   "metadata": {},
   "source": [
    "### Mean squared error"
   ]
  },
  {
   "cell_type": "code",
   "execution_count": 79,
   "metadata": {},
   "outputs": [
    {
     "name": "stdout",
     "output_type": "stream",
     "text": [
      "0.3277275147774118\n"
     ]
    }
   ],
   "source": [
    "from sklearn.metrics import mean_squared_error\n",
    "from math import sqrt\n",
    "\n",
    "DT_rms=sqrt(mean_squared_error(y_test,y_pred))\n",
    "print(DT_rms)"
   ]
  },
  {
   "cell_type": "markdown",
   "metadata": {},
   "source": [
    "## Using RandomForest Regressor"
   ]
  },
  {
   "cell_type": "code",
   "execution_count": 80,
   "metadata": {},
   "outputs": [
    {
     "name": "stderr",
     "output_type": "stream",
     "text": [
      "C:\\Users\\Ravi\\Anaconda3\\lib\\site-packages\\sklearn\\ensemble\\forest.py:245: FutureWarning: The default value of n_estimators will change from 10 in version 0.20 to 100 in 0.22.\n",
      "  \"10 in version 0.20 to 100 in 0.22.\", FutureWarning)\n"
     ]
    },
    {
     "name": "stdout",
     "output_type": "stream",
     "text": [
      "0.9993346238595323\n"
     ]
    }
   ],
   "source": [
    "from sklearn.ensemble import RandomForestRegressor\n",
    "rdf=RandomForestRegressor() \n",
    "\n",
    "rdf.fit(X_train,y_train)\n",
    "y_pred=rdf.predict(X_test)\n",
    "print(rdf.score(X_train,y_train))"
   ]
  },
  {
   "cell_type": "code",
   "execution_count": 81,
   "metadata": {},
   "outputs": [
    {
     "name": "stdout",
     "output_type": "stream",
     "text": [
      "[[ 18329    410]\n",
      " [  1596 534449]]\n",
      "              precision    recall  f1-score   support\n",
      "\n",
      "         0.0       0.92      0.98      0.95     18739\n",
      "         1.0       1.00      1.00      1.00    536045\n",
      "\n",
      "    accuracy                           1.00    554784\n",
      "   macro avg       0.96      0.99      0.97    554784\n",
      "weighted avg       1.00      1.00      1.00    554784\n",
      "\n"
     ]
    }
   ],
   "source": [
    "from sklearn.metrics import classification_report,confusion_matrix\n",
    "print(confusion_matrix(y_test_classes, y_pred_classes))\n",
    "print(classification_report(y_test_classes, y_pred_classes))"
   ]
  },
  {
   "cell_type": "markdown",
   "metadata": {},
   "source": [
    "### Accuracy"
   ]
  },
  {
   "cell_type": "code",
   "execution_count": 82,
   "metadata": {},
   "outputs": [
    {
     "name": "stdout",
     "output_type": "stream",
     "text": [
      "RT_Accuracy: 0.9963841783468882\n"
     ]
    }
   ],
   "source": [
    "print(\"RT_Accuracy:\",metrics.accuracy_score(y_test_classes,y_pred_classes))"
   ]
  },
  {
   "cell_type": "markdown",
   "metadata": {},
   "source": [
    "### Mean squared error"
   ]
  },
  {
   "cell_type": "code",
   "execution_count": 83,
   "metadata": {},
   "outputs": [
    {
     "name": "stdout",
     "output_type": "stream",
     "text": [
      "0.25352435094957587\n"
     ]
    }
   ],
   "source": [
    "from sklearn.metrics import mean_squared_error\n",
    "from math import sqrt\n",
    "\n",
    "RT_rms=sqrt(mean_squared_error(y_test,y_pred))\n",
    "print(RT_rms)"
   ]
  },
  {
   "cell_type": "markdown",
   "metadata": {},
   "source": [
    "## Using GradientBoostingRegressor"
   ]
  },
  {
   "cell_type": "code",
   "execution_count": 84,
   "metadata": {},
   "outputs": [
    {
     "name": "stdout",
     "output_type": "stream",
     "text": [
      "0.9964549878222612\n"
     ]
    }
   ],
   "source": [
    "from sklearn.ensemble import GradientBoostingRegressor\n",
    "\n",
    "gbr=GradientBoostingRegressor() \n",
    "\n",
    "gbr.fit(X_train,y_train)\n",
    "y_pred=gbr.predict(X_test)\n",
    "print(gbr.score(X_train,y_train))"
   ]
  },
  {
   "cell_type": "code",
   "execution_count": 85,
   "metadata": {},
   "outputs": [
    {
     "name": "stdout",
     "output_type": "stream",
     "text": [
      "[[ 18329    410]\n",
      " [  1596 534449]]\n",
      "              precision    recall  f1-score   support\n",
      "\n",
      "         0.0       0.92      0.98      0.95     18739\n",
      "         1.0       1.00      1.00      1.00    536045\n",
      "\n",
      "    accuracy                           1.00    554784\n",
      "   macro avg       0.96      0.99      0.97    554784\n",
      "weighted avg       1.00      1.00      1.00    554784\n",
      "\n"
     ]
    }
   ],
   "source": [
    "from sklearn.metrics import classification_report,confusion_matrix\n",
    "print(confusion_matrix(y_test_classes, y_pred_classes))\n",
    "print(classification_report(y_test_classes, y_pred_classes))"
   ]
  },
  {
   "cell_type": "markdown",
   "metadata": {},
   "source": [
    "### Accuracy"
   ]
  },
  {
   "cell_type": "code",
   "execution_count": 86,
   "metadata": {},
   "outputs": [
    {
     "name": "stdout",
     "output_type": "stream",
     "text": [
      "GBR_Accuracy: 0.9963841783468882\n"
     ]
    }
   ],
   "source": [
    "print(\"GBR_Accuracy:\",metrics.accuracy_score(y_test_classes,y_pred_classes))"
   ]
  },
  {
   "cell_type": "markdown",
   "metadata": {},
   "source": [
    "### Mean squared error"
   ]
  },
  {
   "cell_type": "code",
   "execution_count": 87,
   "metadata": {},
   "outputs": [
    {
     "name": "stdout",
     "output_type": "stream",
     "text": [
      "0.25517103250017154\n"
     ]
    }
   ],
   "source": [
    "from sklearn.metrics import mean_squared_error\n",
    "from math import sqrt\n",
    "\n",
    "GBR_rms=sqrt(mean_squared_error(y_test,y_pred))\n",
    "print(GBR_rms)"
   ]
  },
  {
   "cell_type": "markdown",
   "metadata": {},
   "source": [
    "## Using Bagging Regressor"
   ]
  },
  {
   "cell_type": "code",
   "execution_count": 88,
   "metadata": {},
   "outputs": [
    {
     "name": "stdout",
     "output_type": "stream",
     "text": [
      "0.9993523706985293\n"
     ]
    }
   ],
   "source": [
    "from sklearn.ensemble import BaggingRegressor\n",
    "br=BaggingRegressor() \n",
    "\n",
    "br.fit(X_train,y_train)\n",
    "y_pred=br.predict(X_test)\n",
    "print(br.score(X_train,y_train))"
   ]
  },
  {
   "cell_type": "code",
   "execution_count": 89,
   "metadata": {},
   "outputs": [
    {
     "name": "stdout",
     "output_type": "stream",
     "text": [
      "[[ 18329    410]\n",
      " [  1596 534449]]\n",
      "              precision    recall  f1-score   support\n",
      "\n",
      "         0.0       0.92      0.98      0.95     18739\n",
      "         1.0       1.00      1.00      1.00    536045\n",
      "\n",
      "    accuracy                           1.00    554784\n",
      "   macro avg       0.96      0.99      0.97    554784\n",
      "weighted avg       1.00      1.00      1.00    554784\n",
      "\n"
     ]
    }
   ],
   "source": [
    "from sklearn.metrics import classification_report,confusion_matrix\n",
    "print(confusion_matrix(y_test_classes, y_pred_classes))\n",
    "print(classification_report(y_test_classes, y_pred_classes))"
   ]
  },
  {
   "cell_type": "markdown",
   "metadata": {},
   "source": [
    "### accuracy"
   ]
  },
  {
   "cell_type": "code",
   "execution_count": 90,
   "metadata": {},
   "outputs": [
    {
     "name": "stdout",
     "output_type": "stream",
     "text": [
      "BR_Accuracy: 0.9963841783468882\n"
     ]
    }
   ],
   "source": [
    "print(\"BR_Accuracy:\",metrics.accuracy_score(y_test_classes,y_pred_classes))"
   ]
  },
  {
   "cell_type": "markdown",
   "metadata": {},
   "source": [
    "### Mean squared error"
   ]
  },
  {
   "cell_type": "code",
   "execution_count": 91,
   "metadata": {},
   "outputs": [
    {
     "name": "stdout",
     "output_type": "stream",
     "text": [
      "0.2523466261043649\n"
     ]
    }
   ],
   "source": [
    "from sklearn.metrics import mean_squared_error\n",
    "from math import sqrt\n",
    "\n",
    "BR_rms=sqrt(mean_squared_error(y_test,y_pred))\n",
    "print(BR_rms)"
   ]
  },
  {
   "cell_type": "markdown",
   "metadata": {},
   "source": [
    "## Using KNeighbors Regressor"
   ]
  },
  {
   "cell_type": "code",
   "execution_count": 92,
   "metadata": {},
   "outputs": [
    {
     "name": "stdout",
     "output_type": "stream",
     "text": [
      "0.9973281865311666\n"
     ]
    }
   ],
   "source": [
    "from sklearn.neighbors import KNeighborsRegressor\n",
    "knn=KNeighborsRegressor() \n",
    "\n",
    "knn.fit(X_train,y_train)\n",
    "y_pred=knn.predict(X_test)\n",
    "print(knn.score(X_train,y_train))"
   ]
  },
  {
   "cell_type": "code",
   "execution_count": null,
   "metadata": {},
   "outputs": [],
   "source": [
    "from sklearn.metrics import classification_report,confusion_matrix\n",
    "print(confusion_matrix(y_test_classes, y_pred_classes))\n",
    "print(classification_report(y_test_classes, y_pred_classes))"
   ]
  },
  {
   "cell_type": "markdown",
   "metadata": {},
   "source": [
    "### accuracy"
   ]
  },
  {
   "cell_type": "code",
   "execution_count": null,
   "metadata": {},
   "outputs": [],
   "source": [
    "print(\"KN_Accuracy:\",metrics.accuracy_score(y_test_classes,y_pred_classes))"
   ]
  },
  {
   "cell_type": "markdown",
   "metadata": {},
   "source": [
    "### Mean squared error"
   ]
  },
  {
   "cell_type": "code",
   "execution_count": null,
   "metadata": {},
   "outputs": [],
   "source": [
    "from sklearn.metrics import mean_squared_error\n",
    "from math import sqrt\n",
    "\n",
    "KN_rms=sqrt(mean_squared_error(y_test,y_pred))\n",
    "print(KN_rms)"
   ]
  },
  {
   "cell_type": "code",
   "execution_count": null,
   "metadata": {},
   "outputs": [],
   "source": []
  }
 ],
 "metadata": {
  "kernelspec": {
   "display_name": "Python 3",
   "language": "python",
   "name": "python3"
  },
  "language_info": {
   "codemirror_mode": {
    "name": "ipython",
    "version": 3
   },
   "file_extension": ".py",
   "mimetype": "text/x-python",
   "name": "python",
   "nbconvert_exporter": "python",
   "pygments_lexer": "ipython3",
   "version": "3.7.4"
  }
 },
 "nbformat": 4,
 "nbformat_minor": 2
}
